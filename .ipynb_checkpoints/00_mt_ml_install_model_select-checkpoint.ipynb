{
 "cells": [
  {
   "cell_type": "markdown",
   "metadata": {},
   "source": [
    "#Python notes for using scikit-learn and installing environments\n",
    "'''\n",
    "\n",
    "\n",
    "\n",
    "'''"
   ]
  },
  {
   "cell_type": "code",
   "execution_count": 4,
   "metadata": {},
   "outputs": [
    {
     "name": "stdout",
     "output_type": "stream",
     "text": [
      "/bin/sh: 1: cd: can't cd to /home/tapew0rm/app/spark\r\n"
     ]
    }
   ],
   "source": [
    "!mkdir ~/app/spark \n",
    "!cd ~/app/spark"
   ]
  },
  {
   "cell_type": "code",
   "execution_count": null,
   "metadata": {
    "scrolled": true
   },
   "outputs": [],
   "source": [
    "!pwd && ls -al"
   ]
  },
  {
   "cell_type": "code",
   "execution_count": 1,
   "metadata": {
    "scrolled": true
   },
   "outputs": [
    {
     "name": "stdout",
     "output_type": "stream",
     "text": [
      "--2019-03-20 23:59:15--  https://www-us.apache.org/dist/spark/spark-2.4.0/spark-2.4.0-bin-hadoop2.7.tgz\n",
      "Resolving www-us.apache.org (www-us.apache.org)... 40.79.78.1\n",
      "Connecting to www-us.apache.org (www-us.apache.org)|40.79.78.1|:443... connected.\n",
      "HTTP request sent, awaiting response... 200 OK\n",
      "Length: 227893062 (217M) [application/x-gzip]\n",
      "Saving to: ‘spark-2.4.0-bin-hadoop2.7.tgz’\n",
      "\n",
      "spark-2.4.0-bin-had 100%[===================>] 217.33M  12.9MB/s    in 17s     \n",
      "\n",
      "2019-03-20 23:59:33 (12.7 MB/s) - ‘spark-2.4.0-bin-hadoop2.7.tgz’ saved [227893062/227893062]\n",
      "\n"
     ]
    }
   ],
   "source": [
    "!wget https://www-us.apache.org/dist/spark/spark-2.4.0/spark-2.4.0-bin-hadoop2.7.tgz"
   ]
  },
  {
   "cell_type": "code",
   "execution_count": null,
   "metadata": {},
   "outputs": [],
   "source": [
    "!tar tzvf spark-2.4.0-bin-hadoop2.7.tgz"
   ]
  },
  {
   "cell_type": "code",
   "execution_count": null,
   "metadata": {
    "scrolled": true
   },
   "outputs": [],
   "source": [
    "!tar "
   ]
  },
  {
   "cell_type": "code",
   "execution_count": 5,
   "metadata": {},
   "outputs": [],
   "source": []
  },
  {
   "cell_type": "code",
   "execution_count": null,
   "metadata": {},
   "outputs": [],
   "source": [
    "!"
   ]
  }
 ],
 "metadata": {
  "kernelspec": {
   "display_name": "Python 3",
   "language": "python",
   "name": "python3"
  },
  "language_info": {
   "codemirror_mode": {
    "name": "ipython",
    "version": 3
   },
   "file_extension": ".py",
   "mimetype": "text/x-python",
   "name": "python",
   "nbconvert_exporter": "python",
   "pygments_lexer": "ipython3",
   "version": "3.6.5"
  }
 },
 "nbformat": 4,
 "nbformat_minor": 2
}
