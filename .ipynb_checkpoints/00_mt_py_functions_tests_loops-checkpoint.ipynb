{
 "cells": [
  {
   "cell_type": "markdown",
   "metadata": {},
   "source": [
    "IPython code repository\n",
    "experiment with FOR and WHILE loops\n",
    "build test data with generators and iterators\n",
    "\n"
   ]
  },
  {
   "cell_type": "code",
   "execution_count": null,
   "metadata": {
    "scrolled": true
   },
   "outputs": [],
   "source": [
    "!pip3 install --upgrade pip\n",
    "!pip3 install StringGenerator"
   ]
  },
  {
   "cell_type": "code",
   "execution_count": null,
   "metadata": {},
   "outputs": [],
   "source": [
    "from random import randint, randrange, uniform\n",
    "import string\n",
    "from strgen import StringGenerator as SG\n",
    "import numpy as np"
   ]
  },
  {
   "cell_type": "code",
   "execution_count": null,
   "metadata": {},
   "outputs": [],
   "source": [
    "%pdb"
   ]
  },
  {
   "cell_type": "code",
   "execution_count": null,
   "metadata": {},
   "outputs": [],
   "source": [
    "print(randint(234, 567))"
   ]
  },
  {
   "cell_type": "code",
   "execution_count": null,
   "metadata": {},
   "outputs": [],
   "source": [
    "irand = randrange(0, 10)\n",
    "frand = uniform(0, 10)"
   ]
  },
  {
   "cell_type": "code",
   "execution_count": null,
   "metadata": {},
   "outputs": [],
   "source": [
    "irand"
   ]
  },
  {
   "cell_type": "code",
   "execution_count": null,
   "metadata": {},
   "outputs": [],
   "source": [
    "frand"
   ]
  },
  {
   "cell_type": "code",
   "execution_count": null,
   "metadata": {},
   "outputs": [],
   "source": [
    "A = [randint(0, 999) for p in range(0, 11)]"
   ]
  },
  {
   "cell_type": "code",
   "execution_count": null,
   "metadata": {},
   "outputs": [],
   "source": [
    "A.sort()"
   ]
  },
  {
   "cell_type": "code",
   "execution_count": null,
   "metadata": {},
   "outputs": [],
   "source": [
    "A"
   ]
  },
  {
   "cell_type": "code",
   "execution_count": null,
   "metadata": {},
   "outputs": [],
   "source": [
    "np.random.shuffle(A)"
   ]
  },
  {
   "cell_type": "code",
   "execution_count": null,
   "metadata": {},
   "outputs": [],
   "source": [
    "def id_generator(size=16, chars=string.ascii_uppercase + string.digits):\n",
    "    #return ''.join(random.choice(chars) for _ in range(size))\n",
    "    #return ''.join(random.SystemRandom().choice(string.ascii_uppercase + string.digits) for _ in range(size)\n",
    "    #return ''.join(random.choices(string.ascii_uppercase + string.digits, k=size))\n",
    "    return ''.join(random.choices(string.ascii_uppercase + string.digits, k=size))"
   ]
  },
  {
   "cell_type": "code",
   "execution_count": null,
   "metadata": {},
   "outputs": [],
   "source": [
    "id_generator()"
   ]
  },
  {
   "cell_type": "code",
   "execution_count": null,
   "metadata": {
    "scrolled": true
   },
   "outputs": [],
   "source": [
    "#this throws an exception, needs review\n",
    "SG(\"[\\u\\d]{6}\").render()"
   ]
  },
  {
   "cell_type": "code",
   "execution_count": null,
   "metadata": {
    "scrolled": true
   },
   "outputs": [],
   "source": [
    " SG(\"[\\l\\d]{10}\").render_list(5,unique=True)"
   ]
  },
  {
   "cell_type": "code",
   "execution_count": null,
   "metadata": {},
   "outputs": [],
   "source": [
    "SG(\"[\\l\\d]{10}&[\\p]\").render()"
   ]
  },
  {
   "cell_type": "code",
   "execution_count": null,
   "metadata": {},
   "outputs": [],
   "source": [
    "import uuid; uuid.uuid4().hex.upper()[0:6]"
   ]
  },
  {
   "cell_type": "code",
   "execution_count": null,
   "metadata": {},
   "outputs": [],
   "source": [
    "import uuid\n",
    "\n",
    "def my_random_string(sl):\n",
    "    string_length = sl\n",
    "    \"\"\"Returns a random string of length string_length.\"\"\"\n",
    "    random = str(uuid.uuid4()) # Convert UUID format to a Python string.\n",
    "    random = random.upper() # Make all characters uppercase.\n",
    "    random = random.replace(\"-\",\"\") # Remove the UUID '-'.\n",
    "    return random[0:string_length] # Return the random string.\n",
    "\n",
    "print(my_random_string(10))"
   ]
  },
  {
   "cell_type": "code",
   "execution_count": null,
   "metadata": {},
   "outputs": [],
   "source": [
    "%time my_random_string(113)"
   ]
  },
  {
   "cell_type": "code",
   "execution_count": null,
   "metadata": {},
   "outputs": [],
   "source": [
    "A = [1, 3, 6, 4, 1, 2]"
   ]
  },
  {
   "cell_type": "code",
   "execution_count": null,
   "metadata": {},
   "outputs": [],
   "source": [
    "def michael_ellis(e):\n",
    "    # write your code in Python 3.6\n",
    "    min = np.min.A\n",
    "    #while min not in a:\n",
    "    max     \n",
    "\n",
    "\n",
    "    pass"
   ]
  },
  {
   "cell_type": "code",
   "execution_count": null,
   "metadata": {},
   "outputs": [],
   "source": [
    "def smallest_missing_positive_integer(A):\n",
    "    A.sort()\n",
    "    N = len(A)\n",
    "    \n",
    "    i = 0\n",
    "    previous = 0\n",
    "    while i < N:\n",
    "        current = A[i]\n",
    "\n",
    "        if current > 0:\n",
    "            if current > previous + 1: # breaks consecutiveness\n",
    "                return previous + 1\n",
    "            else:\n",
    "                previous = current\n",
    "        \n",
    "        i += 1\n",
    "    \n",
    "    return max(previous+1, current+1)"
   ]
  },
  {
   "cell_type": "code",
   "execution_count": null,
   "metadata": {},
   "outputs": [],
   "source": [
    "print(smallest_missing_positive_integer(A))"
   ]
  },
  {
   "cell_type": "code",
   "execution_count": null,
   "metadata": {},
   "outputs": [],
   "source": [
    "def second_largest(A):\n",
    "    m1, m2 = float('inf'), float('inf')\n",
    "    for x in A:\n",
    "        if x >= m1:\n",
    "            m1, m2 = x, m1\n",
    "        elif x > m2:\n",
    "            m2 = x\n",
    "    return m2\n"
   ]
  },
  {
   "cell_type": "code",
   "execution_count": null,
   "metadata": {
    "scrolled": true
   },
   "outputs": [],
   "source": [
    "second_largest(A)"
   ]
  },
  {
   "cell_type": "code",
   "execution_count": null,
   "metadata": {},
   "outputs": [],
   "source": [
    "import heapq\n",
    "def second_largest_2(numbers):\n",
    "    return heapq.nsmallest(2, numbers)[-1]\n"
   ]
  },
  {
   "cell_type": "code",
   "execution_count": null,
   "metadata": {},
   "outputs": [],
   "source": [
    "second_largest_2(A)"
   ]
  },
  {
   "cell_type": "code",
   "execution_count": null,
   "metadata": {},
   "outputs": [],
   "source": [
    "def second_smallest(A):\n",
    "    m1, m2 = float('inf'), float('inf')\n",
    "    for x in A:\n",
    "        if x <= m1:\n",
    "            m1, m2 = x, m1\n",
    "        elif x < m2:\n",
    "            m2 = x\n",
    "    return m2"
   ]
  },
  {
   "cell_type": "code",
   "execution_count": null,
   "metadata": {},
   "outputs": [],
   "source": [
    "s = set(A)\n",
    "print (sorted(s)[1])"
   ]
  },
  {
   "cell_type": "code",
   "execution_count": null,
   "metadata": {
    "scrolled": true
   },
   "outputs": [],
   "source": [
    "second_smallest(A)"
   ]
  },
  {
   "cell_type": "code",
   "execution_count": null,
   "metadata": {},
   "outputs": [],
   "source": [
    "def minpositive(A):\n",
    "    b = set(A)\n",
    "    ans = 1\n",
    "    while ans in A:\n",
    "       ans += 1\n",
    "    return ans"
   ]
  },
  {
   "cell_type": "code",
   "execution_count": null,
   "metadata": {},
   "outputs": [],
   "source": [
    "print (minpositive(A))"
   ]
  },
  {
   "cell_type": "code",
   "execution_count": null,
   "metadata": {},
   "outputs": [],
   "source": [
    "A = [-1, -5, -3]"
   ]
  },
  {
   "cell_type": "code",
   "execution_count": null,
   "metadata": {},
   "outputs": [],
   "source": [
    "from itertools import count, filterfalse \n",
    "\n",
    "def minpositive2(A):\n",
    "    return(next(filterfalse(set(A).__contains__, count(1))))"
   ]
  },
  {
   "cell_type": "code",
   "execution_count": null,
   "metadata": {},
   "outputs": [],
   "source": [
    "print (minpositive2(A))"
   ]
  },
  {
   "cell_type": "code",
   "execution_count": null,
   "metadata": {},
   "outputs": [],
   "source": [
    "#find the binary gap, max sequence of consecutive zeros surrounded by ones \n",
    "def max_gap(x):\n",
    "    max_gap_length = 0\n",
    "    current_gap_length = 0\n",
    "    for i in range(x.bit_length()):\n",
    "        if x & (1 << i):\n",
    "            # Set, any gap is over.\n",
    "            if current_gap_length > max_gap_length:\n",
    "                max_gap_length = current_gap_length\n",
    "            current_gap_length = 0\n",
    "        else:\n",
    "            # Not set, the gap widens.\n",
    "            current_gap_length += 1\n",
    "    # Gap might end at the end.\n",
    "    if current_gap_length > max_gap_length:\n",
    "        max_gap_length = current_gap_length\n",
    "    return max_gap_length"
   ]
  },
  {
   "cell_type": "code",
   "execution_count": null,
   "metadata": {},
   "outputs": [],
   "source": [
    "#convert int to a binary, strip zeros from the right side, split a 1,\n",
    "#find max in the list and return the length\n",
    "def binary_gap(N):\n",
    "    return len(max(format(N, 'b').strip('0').split('1')))"
   ]
  },
  {
   "cell_type": "code",
   "execution_count": null,
   "metadata": {},
   "outputs": [],
   "source": [
    "%timeit binary_gap(529)"
   ]
  },
  {
   "cell_type": "code",
   "execution_count": null,
   "metadata": {},
   "outputs": [],
   "source": [
    "bin(529)"
   ]
  },
  {
   "cell_type": "code",
   "execution_count": null,
   "metadata": {},
   "outputs": [],
   "source": [
    "%timeit max_gap(529)"
   ]
  },
  {
   "cell_type": "code",
   "execution_count": null,
   "metadata": {},
   "outputs": [],
   "source": [
    "#rotate an array, each element moves to the right by one, last element goes to beginning\n",
    "x = np.arange(11)  #random.randn(3,27,1)"
   ]
  },
  {
   "cell_type": "code",
   "execution_count": null,
   "metadata": {},
   "outputs": [],
   "source": [
    "x"
   ]
  },
  {
   "cell_type": "code",
   "execution_count": null,
   "metadata": {
    "scrolled": true
   },
   "outputs": [],
   "source": [
    "%timeit print(np.roll(x, 3))"
   ]
  },
  {
   "cell_type": "code",
   "execution_count": null,
   "metadata": {},
   "outputs": [],
   "source": [
    "def rotater(l, n):\n",
    "    return l[n:] + l[:n]"
   ]
  },
  {
   "cell_type": "code",
   "execution_count": null,
   "metadata": {
    "scrolled": false
   },
   "outputs": [],
   "source": [
    "%timeit print(rotater([ 0,  1,  2,  3,  4,  5,  6,  7,  8,  9, 10], 3))"
   ]
  },
  {
   "cell_type": "code",
   "execution_count": null,
   "metadata": {},
   "outputs": [],
   "source": [
    "#find the unpaired value in an odd number of elements\n",
    "def no_pair(y)"
   ]
  },
  {
   "cell_type": "code",
   "execution_count": null,
   "metadata": {},
   "outputs": [],
   "source": [
    "def no_pair(A):\n",
    "    if len(A) == 1:\n",
    "        return A[0]\n",
    "    A = sorted(A)\n",
    "    for i in range (0, len(A), 2):\n",
    "        if i+1 == len(A):\n",
    "            return A[i]\n",
    "        if A[i] != A[i+1]:\n",
    "            return A[i]"
   ]
  },
  {
   "cell_type": "code",
   "execution_count": null,
   "metadata": {},
   "outputs": [],
   "source": [
    "arr = [9,3,9,3,9,7,9]"
   ]
  },
  {
   "cell_type": "code",
   "execution_count": null,
   "metadata": {},
   "outputs": [],
   "source": [
    "def no_pair2(arr):\n",
    "    result = 0\n",
    "    for number in A:\n",
    "        result ^= number\n",
    "    return result"
   ]
  },
  {
   "cell_type": "code",
   "execution_count": null,
   "metadata": {},
   "outputs": [],
   "source": [
    "no_pair2(arr)"
   ]
  },
  {
   "cell_type": "code",
   "execution_count": null,
   "metadata": {},
   "outputs": [],
   "source": [
    "no_pair(arr)"
   ]
  },
  {
   "cell_type": "code",
   "execution_count": null,
   "metadata": {
    "scrolled": false
   },
   "outputs": [],
   "source": [
    "#rotate array elementsarr2"
   ]
  },
  {
   "cell_type": "code",
   "execution_count": null,
   "metadata": {},
   "outputs": [],
   "source": [
    "#count min number of fixed(y) jumps to >= D. \n",
    "#starting position is x\n",
    "def badger(x, y, d):\n",
    "    distance = y- x\n",
    "    if distance % d == 0:\n",
    "        return distance//d\n",
    "    else:\n",
    "        return distance//d +1"
   ]
  },
  {
   "cell_type": "code",
   "execution_count": null,
   "metadata": {},
   "outputs": [],
   "source": [
    "%timeit badger(10, 88834999337775, 3.3)"
   ]
  },
  {
   "cell_type": "code",
   "execution_count": null,
   "metadata": {},
   "outputs": [],
   "source": [
    "def badger2():\n",
    "    pass"
   ]
  },
  {
   "cell_type": "code",
   "execution_count": null,
   "metadata": {},
   "outputs": [],
   "source": [
    "#perm missing elements,if not a continous list will return highest missing value\n",
    "def llama_milk(m):\n",
    "    length = len(m)\n",
    "    xor_sum = 0\n",
    "    for index in range(0, length):\n",
    "        xor_sum = xor_sum ^ m[index] ^ (index + 1)\n",
    "    return xor_sum^(length +1)"
   ]
  },
  {
   "cell_type": "code",
   "execution_count": null,
   "metadata": {},
   "outputs": [],
   "source": [
    "m =[2,3,1,27]"
   ]
  },
  {
   "cell_type": "code",
   "execution_count": null,
   "metadata": {},
   "outputs": [],
   "source": [
    "llama_milk(m)"
   ]
  },
  {
   "cell_type": "markdown",
   "metadata": {},
   "source": [
    "'''\n",
    "#codility tape_equilibrium\n",
    "#Array A = numbers on a tape, range(-1000, 1000)\n",
    "#Any integer P, such that 0 < P < N, N is an int range(2, 100,00)\n",
    "#splits this tape into two non-empty parts: \n",
    "#A[0], A[1], ..., A[P − 1] and A[P], A[P + 1], ..., A[N − 1]\n",
    "#the difference is the absolute diff between the sum of the first part\n",
    "#and the sum of the second.\n",
    "#\n",
    "'''"
   ]
  },
  {
   "cell_type": "markdown",
   "metadata": {},
   "source": [
    "Suduko converter\n",
    "source_Suduko = 'https://pythontips.com/2013/09/01/sudoku-solver-in-python/'"
   ]
  },
  {
   "cell_type": "code",
   "execution_count": null,
   "metadata": {},
   "outputs": [],
   "source": [
    "import sys\n",
    "\n",
    "def same_row(i,j): return (i/9 == j/9)\n",
    "def same_col(i,j): return (i-j) % 9 == 0\n",
    "def same_block(i,j): return (i/27 == j/27 and i%9/3 == j%9/3)\n",
    "\n",
    "def r(a):\n",
    "    i = a.find('0')\n",
    "    if i == -1:\n",
    "        sys.exit(a)\n",
    "\n",
    "    excluded_numbers = set()\n",
    "    for j in range(81):\n",
    "        if same_row(i,j) or same_col(i,j) or same_block(i,j):\n",
    "            excluded_numbers.add(a[j])\n",
    "\n",
    "    for m in '123456789':\n",
    "        if m not in excluded_numbers:\n",
    "        r(a[:i]+m+a[i+1:])\n",
    "\n",
    "if __name__ == '__main__':\n",
    "    if len(sys.argv) == 2 and len(sys.argv[1]) == 81:\n",
    "        r(sys.argv[1])\n",
    "    else:\n",
    "        print 'Usage: python sudoku.py puzzle'\n",
    "        print '  where puzzle is an 81 character string \n",
    "             representing the puzzle read left-to-right,\n",
    "             top-to-bottom, and 0 is a blank'"
   ]
  }
 ],
 "metadata": {
  "kernelspec": {
   "display_name": "Python 3",
   "language": "python",
   "name": "python3"
  },
  "language_info": {
   "codemirror_mode": {
    "name": "ipython",
    "version": 3
   },
   "file_extension": ".py",
   "mimetype": "text/x-python",
   "name": "python",
   "nbconvert_exporter": "python",
   "pygments_lexer": "ipython3",
   "version": "3.6.5"
  }
 },
 "nbformat": 4,
 "nbformat_minor": 2
}
