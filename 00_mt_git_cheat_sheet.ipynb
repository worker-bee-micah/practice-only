{
 "cells": [
  {
   "cell_type": "markdown",
   "metadata": {},
   "source": [
    "#Git Cheat Sheet\n",
    "sources = \"http://training.github.com\"\n",
    "##Configure Tooling"
   ]
  },
  {
   "cell_type": "code",
   "execution_count": null,
   "metadata": {},
   "outputs": [],
   "source": [
    "#set the name attached to commits\n",
    "!git config --global user.name \"[Semprini]\""
   ]
  },
  {
   "cell_type": "code",
   "execution_count": null,
   "metadata": {},
   "outputs": [],
   "source": [
    "#set email\n",
    "!git config --global user.email \"semprini@python.org\""
   ]
  },
  {
   "cell_type": "code",
   "execution_count": null,
   "metadata": {},
   "outputs": [],
   "source": [
    "#colors for command line output\n",
    "!git config --global color.ui auto"
   ]
  },
  {
   "cell_type": "code",
   "execution_count": null,
   "metadata": {},
   "outputs": [],
   "source": [
    "#create repositories\n",
    "!git init "
   ]
  },
  {
   "cell_type": "code",
   "execution_count": null,
   "metadata": {
    "scrolled": true
   },
   "outputs": [],
   "source": [
    "!git status"
   ]
  },
  {
   "cell_type": "code",
   "execution_count": null,
   "metadata": {},
   "outputs": [],
   "source": [
    "#usefule options, '-p' : show the diff by commits, -2 limits to last two entries\n",
    "#!git log --stat\n",
    "#!git log --pretty=online\n",
    "#!git  log --pretty=format:\"%h - %cr, %s\" --graph\n",
    "!git log"
   ]
  },
  {
   "cell_type": "code",
   "execution_count": null,
   "metadata": {},
   "outputs": [],
   "source": [
    "!git remote add mt_ml https://github.com/worker-bee-micah/ml.git\n",
    "#!git push -u origin master"
   ]
  },
  {
   "cell_type": "code",
   "execution_count": null,
   "metadata": {},
   "outputs": [],
   "source": [
    "#!git remote set-url --push camelot git@github.com:worker-bee-micah/practice-only.git\n",
    "!git remote set-url --add camelot git@github.com:worker-bee-micah/practice-only.git"
   ]
  },
  {
   "cell_type": "code",
   "execution_count": null,
   "metadata": {},
   "outputs": [],
   "source": [
    "!git clone git@github.com:worker-bee-micah/ml.git"
   ]
  },
  {
   "cell_type": "code",
   "execution_count": null,
   "metadata": {
    "scrolled": true
   },
   "outputs": [],
   "source": [
    "!git remote -v"
   ]
  },
  {
   "cell_type": "code",
   "execution_count": null,
   "metadata": {},
   "outputs": [],
   "source": [
    "!git fetch camelot"
   ]
  },
  {
   "cell_type": "code",
   "execution_count": null,
   "metadata": {},
   "outputs": [],
   "source": [
    "!git add ."
   ]
  },
  {
   "cell_type": "code",
   "execution_count": null,
   "metadata": {},
   "outputs": [],
   "source": [
    "!git commit -a -m 'Second update'"
   ]
  },
  {
   "cell_type": "code",
   "execution_count": null,
   "metadata": {
    "scrolled": false
   },
   "outputs": [],
   "source": [
    "#pulling \n",
    "!git pull camelot master"
   ]
  },
  {
   "cell_type": "code",
   "execution_count": null,
   "metadata": {
    "scrolled": true
   },
   "outputs": [],
   "source": [
    "!git remote show camelot"
   ]
  },
  {
   "cell_type": "code",
   "execution_count": null,
   "metadata": {},
   "outputs": [],
   "source": [
    "!git merge "
   ]
  },
  {
   "cell_type": "code",
   "execution_count": null,
   "metadata": {
    "scrolled": false
   },
   "outputs": [],
   "source": [
    "!git push -u camelot master"
   ]
  },
  {
   "cell_type": "code",
   "execution_count": null,
   "metadata": {},
   "outputs": [],
   "source": [
    "!git checkout mtPython"
   ]
  },
  {
   "cell_type": "code",
   "execution_count": null,
   "metadata": {},
   "outputs": [],
   "source": [
    "!git checkout --track camelot/mtPython"
   ]
  },
  {
   "cell_type": "code",
   "execution_count": null,
   "metadata": {},
   "outputs": [],
   "source": [
    "!git branch"
   ]
  },
  {
   "cell_type": "code",
   "execution_count": null,
   "metadata": {
    "scrolled": true
   },
   "outputs": [],
   "source": [
    "#push the current branch to the same name on the remote\n",
    "!git push camelot"
   ]
  },
  {
   "cell_type": "code",
   "execution_count": null,
   "metadata": {},
   "outputs": [],
   "source": [
    "#change the upstream branch you are tracking with option '-u'\n",
    "!git branch -u camelot/mtPython"
   ]
  },
  {
   "cell_type": "code",
   "execution_count": null,
   "metadata": {},
   "outputs": [],
   "source": [
    "!git push camelot mtPython"
   ]
  },
  {
   "cell_type": "code",
   "execution_count": null,
   "metadata": {},
   "outputs": [],
   "source": [
    "#delete a remote branch\n",
    "#!git push origin --delete mtPython"
   ]
  },
  {
   "cell_type": "code",
   "execution_count": null,
   "metadata": {},
   "outputs": [],
   "source": [
    "!echo \"# License : MIT V4\" >> LICENSE.txt\n",
    "!echo \"# sources\" >> README.md\n",
    "!echo \"Do not tie coconuts to swallows\" >> coconuts.txt"
   ]
  },
  {
   "cell_type": "code",
   "execution_count": 1,
   "metadata": {},
   "outputs": [
    {
     "name": "stdout",
     "output_type": "stream",
     "text": [
      "Writing .gitignore\n"
     ]
    }
   ],
   "source": [
    "%%writefile .gitignore\n",
    "\"\"\"\n",
    "# -*- coding: utf-8 -*-\n",
    "do not track these files with the versioning system  \n",
    "*.log    \n",
    "build/   \n",
    "temp-*   \n",
    ".env\n",
    ".ipynb_checkpoints\n",
    ".gitignore\n",
    "\"\"\""
   ]
  },
  {
   "cell_type": "code",
   "execution_count": null,
   "metadata": {},
   "outputs": [],
   "source": [
    "#snapshot the coconut in preparation for versioning\n",
    "#add all files with space single period\n",
    "!git add coconuts.txt .gitignore LICENSE.txt README.md"
   ]
  },
  {
   "cell_type": "code",
   "execution_count": null,
   "metadata": {
    "scrolled": true
   },
   "outputs": [],
   "source": [
    "#show what is NOT staged\n",
    "!git diff"
   ]
  },
  {
   "cell_type": "code",
   "execution_count": null,
   "metadata": {},
   "outputs": [],
   "source": [
    "#show what IS staged\n",
    "!git diff --staged"
   ]
  },
  {
   "cell_type": "code",
   "execution_count": null,
   "metadata": {},
   "outputs": [],
   "source": [
    "#synonym with --staged\n",
    "!git diff --cached"
   ]
  },
  {
   "cell_type": "code",
   "execution_count": null,
   "metadata": {},
   "outputs": [],
   "source": [
    "# use the option '-a' to auto stage every file, do not need to $git add\n",
    "!git commit -m \"Its only a model\""
   ]
  },
  {
   "cell_type": "code",
   "execution_count": null,
   "metadata": {
    "scrolled": true
   },
   "outputs": [],
   "source": [
    "!git reset #file  unstages the file, but preserves its contents"
   ]
  },
  {
   "cell_type": "code",
   "execution_count": null,
   "metadata": {},
   "outputs": [],
   "source": [
    "#list all local branches in current directory\n",
    "!git branch"
   ]
  },
  {
   "cell_type": "code",
   "execution_count": null,
   "metadata": {},
   "outputs": [],
   "source": [
    "!rm COCONUTS.md"
   ]
  },
  {
   "cell_type": "code",
   "execution_count": null,
   "metadata": {},
   "outputs": [],
   "source": [
    "#if you simply rm, the file will show up in \"Changed but not updated\"\n",
    "!git rm COCONUTS.md"
   ]
  },
  {
   "cell_type": "code",
   "execution_count": null,
   "metadata": {},
   "outputs": [],
   "source": [
    "#keep file in directory, but not in git staging\n",
    "!git rm --cached README"
   ]
  },
  {
   "cell_type": "code",
   "execution_count": null,
   "metadata": {},
   "outputs": [],
   "source": [
    "!git rm log/\\*.log"
   ]
  },
  {
   "cell_type": "code",
   "execution_count": null,
   "metadata": {},
   "outputs": [],
   "source": [
    "!git rm \\*~"
   ]
  },
  {
   "cell_type": "code",
   "execution_count": null,
   "metadata": {},
   "outputs": [],
   "source": []
  },
  {
   "cell_type": "markdown",
   "metadata": {},
   "source": [
    "###Group changes, name a series of commits & combine completed efforts"
   ]
  },
  {
   "cell_type": "code",
   "execution_count": null,
   "metadata": {},
   "outputs": [],
   "source": [
    "#create a new branch\n",
    "!git branch semprini"
   ]
  },
  {
   "cell_type": "code",
   "execution_count": null,
   "metadata": {},
   "outputs": [],
   "source": [
    "#switch to the new branch\n",
    "!git checkout semprini"
   ]
  },
  {
   "cell_type": "code",
   "execution_count": null,
   "metadata": {},
   "outputs": [],
   "source": [
    "#combine the specified branch's history into the current branch\n",
    "!git merge master"
   ]
  },
  {
   "cell_type": "code",
   "execution_count": null,
   "metadata": {},
   "outputs": [],
   "source": [
    "#delete a specific branch\n",
    "!git branch -d semprini"
   ]
  },
  {
   "cell_type": "code",
   "execution_count": null,
   "metadata": {},
   "outputs": [],
   "source": [
    "#delete the file \n",
    "!git rm coconuts.txt"
   ]
  },
  {
   "cell_type": "code",
   "execution_count": null,
   "metadata": {},
   "outputs": [],
   "source": [
    "#remove the file from version control, but preserve locally\n",
    "!git rm --cached coconuts.txt"
   ]
  },
  {
   "cell_type": "code",
   "execution_count": null,
   "metadata": {},
   "outputs": [],
   "source": [
    "#change the file name and prepare for commit\n",
    "!git mv coconuts.txt coconut2x.md"
   ]
  },
  {
   "cell_type": "code",
   "execution_count": null,
   "metadata": {},
   "outputs": [],
   "source": [
    "#list all ignored files in the project\n",
    "!git ls-files --other --ignored --exclude-standard"
   ]
  },
  {
   "cell_type": "code",
   "execution_count": null,
   "metadata": {},
   "outputs": [],
   "source": [
    "#save fragments, shelve and restore incomplete changes\n",
    "#temporarily store all modified tracked files\n",
    "!git stash"
   ]
  },
  {
   "cell_type": "code",
   "execution_count": null,
   "metadata": {},
   "outputs": [],
   "source": [
    "#restore the most recently stashed files\n",
    "!git stash pop"
   ]
  },
  {
   "cell_type": "code",
   "execution_count": null,
   "metadata": {},
   "outputs": [],
   "source": [
    "#list all stashed changesets\n",
    "!git stash list"
   ]
  },
  {
   "cell_type": "code",
   "execution_count": null,
   "metadata": {},
   "outputs": [],
   "source": [
    "#discard the most recent stashed changeset\n",
    "!git stash drop"
   ]
  },
  {
   "cell_type": "code",
   "execution_count": null,
   "metadata": {},
   "outputs": [],
   "source": [
    "#review history, browse and inspectthe evolution of project files, option --oneline\n",
    "!git log "
   ]
  },
  {
   "cell_type": "code",
   "execution_count": null,
   "metadata": {
    "scrolled": true
   },
   "outputs": [],
   "source": [
    "#list version history for a file, including renames\n",
    "!git log --follow coconut.txt"
   ]
  },
  {
   "cell_type": "code",
   "execution_count": null,
   "metadata": {},
   "outputs": [],
   "source": [
    "#show content differences between two branches\n",
    "!git diff branch_lancelot branch_sir_robin"
   ]
  },
  {
   "cell_type": "code",
   "execution_count": null,
   "metadata": {},
   "outputs": [],
   "source": [
    "#output metadata and content changes of the specified commit\n",
    "!git show [commit]"
   ]
  },
  {
   "cell_type": "code",
   "execution_count": null,
   "metadata": {},
   "outputs": [],
   "source": [
    "#redo commits, erase mistakes and craft replacement history\n",
    "!git reset [commit]"
   ]
  },
  {
   "cell_type": "code",
   "execution_count": null,
   "metadata": {},
   "outputs": [],
   "source": [
    "#discard all history and changes back to the specified commit\n",
    "!git reset --hard [commit]"
   ]
  },
  {
   "cell_type": "code",
   "execution_count": null,
   "metadata": {},
   "outputs": [],
   "source": [
    "#synchronize changes, regiser a repository bookmark and exchange version history\n",
    "!git fetch [bookmark]"
   ]
  },
  {
   "cell_type": "code",
   "execution_count": null,
   "metadata": {},
   "outputs": [],
   "source": [
    "#combine bookmark's branch into current local branch\n",
    "!git merge [bookmark]/[branch]"
   ]
  },
  {
   "cell_type": "code",
   "execution_count": null,
   "metadata": {
    "scrolled": true
   },
   "outputs": [],
   "source": [
    "#upload all local branch commits to GitHub\n",
    "#!git push [alias] [branch]\n",
    "!git push -u camelot "
   ]
  },
  {
   "cell_type": "code",
   "execution_count": null,
   "metadata": {},
   "outputs": [],
   "source": [
    "#download bookmark history and incorporate changes"
   ]
  },
  {
   "cell_type": "code",
   "execution_count": null,
   "metadata": {},
   "outputs": [],
   "source": [
    "!ls -al"
   ]
  },
  {
   "cell_type": "code",
   "execution_count": null,
   "metadata": {},
   "outputs": [],
   "source": [
    "!git add ."
   ]
  },
  {
   "cell_type": "code",
   "execution_count": 4,
   "metadata": {},
   "outputs": [
    {
     "name": "stdout",
     "output_type": "stream",
     "text": [
      "Overwriting ONEofEACH.md\n"
     ]
    }
   ],
   "source": [
    "%%writefile ONEofEACH.md\n",
    "\n",
    "#Header first level\n",
    "###### sixth level header\n",
    "Alt-H1 alt-first level\n",
    "Alt-H6 alt-first level6\n",
    "*Italics* are also called * asterisks Emphasis* or _underscoresONends_ .\n",
    "**Bold** is two asterisks or underscores __before/after__\n",
    "Nest **underscores within __asterisks__**\n",
    "Strickthrough uses ~~two~~ two  ~~tildes~~\n",
    "\n",
    "\n",
    "**Lists**\n",
    "..*\n",
    "1. First ordered list item\n",
    "2. Another item\n",
    "⋅⋅* Unordered sub-list. \n",
    "1. Actual numbers don't matter, just that it's a number\n",
    "⋅⋅1. Ordered sub-list\n",
    "4. And another item.\n",
    "\n",
    "⋅⋅⋅You can have properly indented paragraphs within list items. Notice the blank line above, and the leading spaces (at least one, but we'll use three here to also align the raw Markdown).\n",
    "\n",
    "⋅⋅⋅To have a line break without a paragraph, you will need to use two trailing spaces.⋅⋅\n",
    "⋅⋅⋅Note that this line is separate, but within the same paragraph.⋅⋅\n",
    "⋅⋅⋅(This is contrary to the typical GFM line break behaviour, where trailing spaces are not required.)\n",
    "\n",
    "* Unordered list can use asterisks\n",
    "- Or minuses\n",
    "+ Or pluses\n",
    "..*\n",
    "..*\n",
    "\n",
    "\n",
    "**Links**\n",
    "\n",
    "\n",
    "[This is a basic inline-style link](https://remojo.net)\n",
    "\n",
    "\n",
    "[Inline with a title](https://remojo.net \"Remojo Scientific LLC\")\n",
    "\n",
    "\n",
    "Below is my logo, (hover to see the title text):\n",
    "\n",
    "Inline-style:\n",
    "![alt text](https://i.imgur.com/pgqQd7j.jpg \"Shrubbery Number One\")\n",
    "\n",
    "\n",
    "Reference-style:\n",
    "![logo]: https://i.imgur.com/geu1HA1.jpg \"Shrubbery Number Five\"\n",
    "\n",
    "\n",
    "**Syntax Highlighting**\n",
    "\n",
    "\n",
    "Not all renderers will support syntax highlighting.\n",
    "Inline `code` has `back-ticks around` it.\n",
    "Multiline code blocks use three back-ticks and the language in lowercase. e.g. ```python\n",
    "```python\n",
    "code_block = \"THis is s0m\\ne code: that needs work\"\n",
    "print(code_block) if else:\n",
    "```\n",
    "```javascript\n",
    "var s = \"JavaScript syntax highlighting\";\n",
    "alert(s);\n",
    "```\n",
    "|Tables          |Are             |Made of Wood     |\n",
    "|----------------|:--------------:| ---------------:|\n",
    "|column three is |  right-aligned | Liriodendron    |\n",
    "|column two is   | centered       | Quercus         |\n",
    "|African Swallows| are neat       | Coconuts        |\n",
    "|There must be   |three dashes se |parating the     |\n",
    "|header. Outer   | Pipes are opt  |ional.           |\n",
    "|Inline is an    | option also.   |  Semprini       |\n",
    "\n",
    "Markdown | Less | Semprini\n",
    "--- | --- | ---\n",
    "*Still* | `renders` | **nicely**\n",
    "1 | 2 | 3\n",
    "\n",
    "___\n",
    "**Blockquotes**\n",
    "\n",
    "\n",
    ">Blockquotes are created with a greater than sign in the first column.\n",
    ">This line should be part of the quote above.\n",
    "\n",
    "The quote should break here like a killer rabbit.\n",
    "\n",
    ">This is a super double extra long line that should be entirely within the same blockquote.  I can't believe that you are still reading this instruction manual that I'm writting, way to go champ!\n",
    "\n",
    "                                                                                                                  *\n",
    "___                                                                                                                  \n",
    "**Inline HTML**\n",
    "Raw HTML should work also, maybe. Kinda\n",
    "<dl>\n",
    "    <dt>Knights of Camelot List</dt>\n",
    "    <dd>Is not listed here, keep looking.</dd>\n",
    "    \n",
    "<dl>\n",
    "  <dt>Definition lists</dt>\n",
    "  <dd>Are something E. Henry Thripshaw uses sometimes.</dd>\n",
    "\n",
    "  <dt>Markdown in HTML</dt>\n",
    "  <dd>Does *not* work **very** well. Use HTML <em>tags</em>.</dd>\n",
    "</dl>\n",
    "\n",
    "___\n",
    "**Horizontal Rule**\n",
    "Three or more...\n",
    "---\n",
    "Hyphens\n",
    "***\n",
    "Asterisks or\n",
    "___\n",
    "Underscores.\n",
    "\n",
    "***\n",
    "___\n",
    "---\n",
    "\n",
    "Here's a line for us to start with.\n",
    "\n",
    "\n",
    "This line is separated from the one above by two newlines, so it will be a *separate paragraph*.\n",
    "\n",
    "\n",
    "This line is also a separate paragraph, but...\n",
    "This line is only separated by a single newline, so it's a separate line in the *same paragraph*.\n",
    "\n",
    "Now you have to answer to the ^bridge ^^keeper.\n"
   ]
  },
  {
   "cell_type": "code",
   "execution_count": null,
   "metadata": {},
   "outputs": [],
   "source": []
  }
 ],
 "metadata": {
  "kernelspec": {
   "display_name": "Python 3",
   "language": "python",
   "name": "python3"
  },
  "language_info": {
   "codemirror_mode": {
    "name": "ipython",
    "version": 3
   },
   "file_extension": ".py",
   "mimetype": "text/x-python",
   "name": "python",
   "nbconvert_exporter": "python",
   "pygments_lexer": "ipython3",
   "version": "3.6.5"
  }
 },
 "nbformat": 4,
 "nbformat_minor": 2
}
