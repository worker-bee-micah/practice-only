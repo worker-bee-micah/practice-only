{
 "cells": [
  {
   "cell_type": "markdown",
   "metadata": {},
   "source": [
    "#Git Cheat Sheet\n",
    "sources = \"http://training.github.com\"\n",
    "##Configure Tooling"
   ]
  },
  {
   "cell_type": "code",
   "execution_count": null,
   "metadata": {},
   "outputs": [],
   "source": [
    "#set the name attached to commits\n",
    "!git config --global user.name \"[Semprini]\""
   ]
  },
  {
   "cell_type": "code",
   "execution_count": null,
   "metadata": {},
   "outputs": [],
   "source": [
    "#set email\n",
    "!git config --global user.email \"semprini@python.org\""
   ]
  },
  {
   "cell_type": "code",
   "execution_count": null,
   "metadata": {},
   "outputs": [],
   "source": [
    "#colors for command line output\n",
    "!git config --global color.ui auto"
   ]
  },
  {
   "cell_type": "code",
   "execution_count": 1,
   "metadata": {},
   "outputs": [
    {
     "name": "stdout",
     "output_type": "stream",
     "text": [
      "Initialized empty Git repository in /home/tapew0rm/mtGit/tests_py_mt/test_py_mt/.git/\r\n"
     ]
    }
   ],
   "source": [
    "#create repositories\n",
    "!git init "
   ]
  },
  {
   "cell_type": "code",
   "execution_count": 42,
   "metadata": {
    "scrolled": false
   },
   "outputs": [
    {
     "name": "stdout",
     "output_type": "stream",
     "text": [
      "On branch master\r\n",
      "\r\n",
      "Initial commit\r\n",
      "\r\n",
      "Changes to be committed:\r\n",
      "  (use \"git rm --cached <file>...\" to unstage)\r\n",
      "\r\n",
      "\t\u001b[32mnew file:   00_mt_git_cheat_sheet.ipynb\u001b[m\r\n",
      "\r\n",
      "Untracked files:\r\n",
      "  (use \"git add <file>...\" to include in what will be committed)\r\n",
      "\r\n",
      "\t\u001b[31m.ipynb_checkpoints/\u001b[m\r\n",
      "\r\n"
     ]
    }
   ],
   "source": [
    "!git status"
   ]
  },
  {
   "cell_type": "code",
   "execution_count": 17,
   "metadata": {},
   "outputs": [
    {
     "name": "stdout",
     "output_type": "stream",
     "text": [
      "fatal: your current branch 'master' does not have any commits yet\r\n"
     ]
    }
   ],
   "source": [
    "#usefule options, '-p' : show the diff by commits, -2 limits to last two entries\n",
    "#!git log --stat\n",
    "#!git log --pretty=online\n",
    "#!git  log --pretty=format:\"%h - %cr, %s\" --graph\n",
    "!git log"
   ]
  },
  {
   "cell_type": "code",
   "execution_count": 31,
   "metadata": {},
   "outputs": [],
   "source": [
    "!git remote add camelot https://github.com/worker-bee-micah/practice-only.git\n",
    "#!git push -u origin master"
   ]
  },
  {
   "cell_type": "code",
   "execution_count": null,
   "metadata": {},
   "outputs": [],
   "source": [
    "!git clone https://github.com/worker-bee-micah/practice-only.git"
   ]
  },
  {
   "cell_type": "code",
   "execution_count": 39,
   "metadata": {},
   "outputs": [
    {
     "name": "stdout",
     "output_type": "stream",
     "text": [
      "camelot\thttps://github.com/worker-bee-micah/practice-only.git (fetch)\r\n",
      "camelot\thttps://github.com/worker-bee-micah/practice-only.git (push)\r\n"
     ]
    }
   ],
   "source": [
    "!git remote -v"
   ]
  },
  {
   "cell_type": "code",
   "execution_count": 23,
   "metadata": {},
   "outputs": [
    {
     "name": "stdout",
     "output_type": "stream",
     "text": [
      "fatal: 'lancelot' does not appear to be a git repository\r\n",
      "fatal: Could not read from remote repository.\r\n",
      "\r\n",
      "Please make sure you have the correct access rights\r\n",
      "and the repository exists.\r\n"
     ]
    }
   ],
   "source": [
    "!git fetch lancelot"
   ]
  },
  {
   "cell_type": "code",
   "execution_count": null,
   "metadata": {},
   "outputs": [],
   "source": [
    "#pulling \n",
    "\n",
    "!git pull lancelot"
   ]
  },
  {
   "cell_type": "code",
   "execution_count": 33,
   "metadata": {},
   "outputs": [
    {
     "name": "stdout",
     "output_type": "stream",
     "text": [
      "* remote camelot\r\n",
      "  Fetch URL: https://github.com/worker-bee-micah/practice-only.git\r\n",
      "  Push  URL: https://github.com/worker-bee-micah/practice-only.git\r\n",
      "  HEAD branch: master\r\n",
      "  Remote branches:\r\n",
      "    OS_X     new (next fetch will store in remotes/camelot)\r\n",
      "    dev1     new (next fetch will store in remotes/camelot)\r\n",
      "    html     new (next fetch will store in remotes/camelot)\r\n",
      "    master   new (next fetch will store in remotes/camelot)\r\n",
      "    mtPython new (next fetch will store in remotes/camelot)\r\n",
      "    mtSQL    new (next fetch will store in remotes/camelot)\r\n"
     ]
    }
   ],
   "source": [
    "!git remote show camelot"
   ]
  },
  {
   "cell_type": "code",
   "execution_count": 35,
   "metadata": {},
   "outputs": [
    {
     "name": "stdout",
     "output_type": "stream",
     "text": [
      "merge: mtPython - not something we can merge\r\n"
     ]
    }
   ],
   "source": [
    "!git merge mtPython"
   ]
  },
  {
   "cell_type": "code",
   "execution_count": 38,
   "metadata": {},
   "outputs": [
    {
     "name": "stdout",
     "output_type": "stream",
     "text": [
      "error: pathspec 'camelot' did not match any file(s) known to git.\r\n",
      "error: pathspec 'mtPython' did not match any file(s) known to git.\r\n"
     ]
    }
   ],
   "source": [
    "!git checkout camelot mtPython"
   ]
  },
  {
   "cell_type": "code",
   "execution_count": null,
   "metadata": {},
   "outputs": [],
   "source": [
    "!git checkout --track camelot/mtPython"
   ]
  },
  {
   "cell_type": "code",
   "execution_count": 68,
   "metadata": {},
   "outputs": [],
   "source": [
    "!git branch -v"
   ]
  },
  {
   "cell_type": "code",
   "execution_count": null,
   "metadata": {},
   "outputs": [],
   "source": [
    "#change the upstream branch you are tracking with option '-u'\n",
    "!git branch -u camelot/mtPython"
   ]
  },
  {
   "cell_type": "code",
   "execution_count": 26,
   "metadata": {},
   "outputs": [
    {
     "name": "stdout",
     "output_type": "stream",
     "text": [
      "error: src refspec mtPython does not match any.\r\n",
      "error: failed to push some refs to 'camelot'\r\n"
     ]
    }
   ],
   "source": [
    "!git push camelot mtPython"
   ]
  },
  {
   "cell_type": "code",
   "execution_count": null,
   "metadata": {},
   "outputs": [],
   "source": [
    "#delete a remote branch\n",
    "#!git push origin --delete mtPython"
   ]
  },
  {
   "cell_type": "code",
   "execution_count": 56,
   "metadata": {},
   "outputs": [],
   "source": [
    "!echo \"# License : MIT V4\" >> LICENSE.txt\n",
    "!echo \"# sources\" >> README.md\n",
    "!echo \"Do not tie coconuts to swallows\" >> coconuts.txt"
   ]
  },
  {
   "cell_type": "code",
   "execution_count": 62,
   "metadata": {},
   "outputs": [
    {
     "name": "stdout",
     "output_type": "stream",
     "text": [
      "Writing .gitignore\n"
     ]
    }
   ],
   "source": [
    "%%writefile .gitignore\n",
    "\"\"\"\n",
    "# -*- coding: utf-8 -*-\n",
    "do not track these files with the versioning system  \n",
    "*.log    \n",
    "build/   \n",
    "temp-*   \n",
    ".env\n",
    "\"\"\""
   ]
  },
  {
   "cell_type": "code",
   "execution_count": 64,
   "metadata": {},
   "outputs": [],
   "source": [
    "#snapshot the coconut in preparation for versioning\n",
    "#add all files with space single period\n",
    "!git add coconuts.txt .gitignore LICENSE.txt README.md"
   ]
  },
  {
   "cell_type": "code",
   "execution_count": 65,
   "metadata": {
    "scrolled": true
   },
   "outputs": [
    {
     "name": "stdout",
     "output_type": "stream",
     "text": [
      "\u001b[1mdiff --git a/00_mt_git_cheat_sheet.ipynb b/00_mt_git_cheat_sheet.ipynb\u001b[m\r\n",
      "\u001b[1mindex 4c495f4..5cf776c 100644\u001b[m\r\n",
      "\u001b[1m--- a/00_mt_git_cheat_sheet.ipynb\u001b[m\r\n",
      "\u001b[1m+++ b/00_mt_git_cheat_sheet.ipynb\u001b[m\r\n",
      "\u001b[36m@@ -59,9 +59,9 @@\u001b[m\r\n",
      "   },\u001b[m\r\n",
      "   {\u001b[m\r\n",
      "    \"cell_type\": \"code\",\u001b[m\r\n",
      "\u001b[31m-   \"execution_count\": 40,\u001b[m\r\n",
      "\u001b[32m+\u001b[m\u001b[32m   \"execution_count\": 42,\u001b[m\r\n",
      "    \"metadata\": {\u001b[m\r\n",
      "\u001b[31m-    \"scrolled\": true\u001b[m\r\n",
      "\u001b[32m+\u001b[m\u001b[32m    \"scrolled\": false\u001b[m\r\n",
      "    },\u001b[m\r\n",
      "    \"outputs\": [\u001b[m\r\n",
      "     {\u001b[m\r\n",
      "\u001b[36m@@ -72,13 +72,16 @@\u001b[m\r\n",
      "       \"\\r\\n\",\u001b[m\r\n",
      "       \"Initial commit\\r\\n\",\u001b[m\r\n",
      "       \"\\r\\n\",\u001b[m\r\n",
      "\u001b[32m+\u001b[m\u001b[32m      \"Changes to be committed:\\r\\n\",\u001b[m\r\n",
      "\u001b[32m+\u001b[m\u001b[32m      \"  (use \\\"git rm --cached <file>...\\\" to unstage)\\r\\n\",\u001b[m\r\n",
      "\u001b[32m+\u001b[m\u001b[32m      \"\\r\\n\",\u001b[m\r\n",
      "\u001b[32m+\u001b[m\u001b[32m      \"\\t\\u001b[32mnew file:   00_mt_git_cheat_sheet.ipynb\\u001b[m\\r\\n\",\u001b[m\r\n",
      "\u001b[32m+\u001b[m\u001b[32m      \"\\r\\n\",\u001b[m\r\n",
      "       \"Untracked files:\\r\\n\",\u001b[m\r\n",
      "       \"  (use \\\"git add <file>...\\\" to include in what will be committed)\\r\\n\",\u001b[m\r\n",
      "       \"\\r\\n\",\u001b[m\r\n",
      "       \"\\t\\u001b[31m.ipynb_checkpoints/\\u001b[m\\r\\n\",\u001b[m\r\n",
      "\u001b[31m-      \"\\t\\u001b[31m00_mt_git_cheat_sheet.ipynb\\u001b[m\\r\\n\",\u001b[m\r\n",
      "\u001b[31m-      \"\\r\\n\",\u001b[m\r\n",
      "\u001b[31m-      \"nothing added to commit but untracked files present (use \\\"git add\\\" to track)\\r\\n\"\u001b[m\r\n",
      "\u001b[32m+\u001b[m\u001b[32m      \"\\r\\n\"\u001b[m\r\n",
      "      ]\u001b[m\r\n",
      "     }\u001b[m\r\n",
      "    ],\u001b[m\r\n",
      "\u001b[36m@@ -291,34 +294,54 @@\u001b[m\r\n",
      "    \"outputs\": [],\u001b[m\r\n",
      "    \"source\": [\u001b[m\r\n",
      "     \"#delete a remote branch\\n\",\u001b[m\r\n",
      "\u001b[31m-    \"!git push origin --delete mtPython\"\u001b[m\r\n",
      "\u001b[32m+\u001b[m\u001b[32m    \"#!git push origin --delete mtPython\"\u001b[m\r\n",
      "    ]\u001b[m\r\n",
      "   },\u001b[m\r\n",
      "   {\u001b[m\r\n",
      "    \"cell_type\": \"code\",\u001b[m\r\n",
      "\u001b[31m-   \"execution_count\": null,\u001b[m\r\n",
      "\u001b[32m+\u001b[m\u001b[32m   \"execution_count\": 56,\u001b[m\r\n",
      "    \"metadata\": {},\u001b[m\r\n",
      "    \"outputs\": [],\u001b[m\r\n",
      "    \"source\": [\u001b[m\r\n",
      "     \"!echo \\\"# License : MIT V4\\\" >> LICENSE.txt\\n\",\u001b[m\r\n",
      "     \"!echo \\\"# sources\\\" >> README.md\\n\",\u001b[m\r\n",
      "\u001b[31m-    \"!echo \\\"\\\"\\\"#do not track these files with the versioning system\\n\",\u001b[m\r\n",
      "\u001b[31m-    \"*.log\\n\",\u001b[m\r\n",
      "\u001b[31m-    \"build/\\n\",\u001b[m\r\n",
      "\u001b[31m-    \"temp-*\\n\",\u001b[m\r\n",
      "\u001b[31m-    \".env\\\"\\\"\\\" >> .gitignore\\n\",\u001b[m\r\n",
      "     \"!echo \\\"Do not tie coconuts to swallows\\\" >> coconuts.txt\"\u001b[m\r\n",
      "    ]\u001b[m\r\n",
      "   },\u001b[m\r\n",
      "   {\u001b[m\r\n",
      "    \"cell_type\": \"code\",\u001b[m\r\n",
      "\u001b[31m-   \"execution_count\": null,\u001b[m\r\n",
      "\u001b[32m+\u001b[m\u001b[32m   \"execution_count\": 62,\u001b[m\r\n",
      "\u001b[32m+\u001b[m\u001b[32m   \"metadata\": {},\u001b[m\r\n",
      "\u001b[32m+\u001b[m\u001b[32m   \"outputs\": [\u001b[m\r\n",
      "\u001b[32m+\u001b[m\u001b[32m    {\u001b[m\r\n",
      "\u001b[32m+\u001b[m\u001b[32m     \"name\": \"stdout\",\u001b[m\r\n",
      "\u001b[32m+\u001b[m\u001b[32m     \"output_type\": \"stream\",\u001b[m\r\n",
      "\u001b[32m+\u001b[m\u001b[32m     \"text\": [\u001b[m\r\n",
      "\u001b[32m+\u001b[m\u001b[32m      \"Writing .gitignore\\n\"\u001b[m\r\n",
      "\u001b[32m+\u001b[m\u001b[32m     ]\u001b[m\r\n",
      "\u001b[32m+\u001b[m\u001b[32m    }\u001b[m\r\n",
      "\u001b[32m+\u001b[m\u001b[32m   ],\u001b[m\r\n",
      "\u001b[32m+\u001b[m\u001b[32m   \"source\": [\u001b[m\r\n",
      "\u001b[32m+\u001b[m\u001b[32m    \"%%writefile .gitignore\\n\",\u001b[m\r\n",
      "\u001b[32m+\u001b[m\u001b[32m    \"\\\"\\\"\\\"\\n\",\u001b[m\r\n",
      "\u001b[32m+\u001b[m\u001b[32m    \"# -*- coding: utf-8 -*-\\n\",\u001b[m\r\n",
      "\u001b[32m+\u001b[m\u001b[32m    \"do not track these files with the versioning system  \\n\",\u001b[m\r\n",
      "\u001b[32m+\u001b[m\u001b[32m    \"*.log    \\n\",\u001b[m\r\n",
      "\u001b[32m+\u001b[m\u001b[32m    \"build/   \\n\",\u001b[m\r\n",
      "\u001b[32m+\u001b[m\u001b[32m    \"temp-*   \\n\",\u001b[m\r\n",
      "\u001b[32m+\u001b[m\u001b[32m    \".env\\n\",\u001b[m\r\n",
      "\u001b[32m+\u001b[m\u001b[32m    \"\\\"\\\"\\\"\"\u001b[m\r\n",
      "\u001b[32m+\u001b[m\u001b[32m   ]\u001b[m\r\n",
      "\u001b[32m+\u001b[m\u001b[32m  },\u001b[m\r\n",
      "\u001b[32m+\u001b[m\u001b[32m  {\u001b[m\r\n",
      "\u001b[32m+\u001b[m\u001b[32m   \"cell_type\": \"code\",\u001b[m\r\n",
      "\u001b[32m+\u001b[m\u001b[32m   \"execution_count\": 63,\u001b[m\r\n",
      "    \"metadata\": {},\u001b[m\r\n",
      "    \"outputs\": [],\u001b[m\r\n",
      "    \"source\": [\u001b[m\r\n",
      "     \"#snapshot the coconut in preparation for versioning\\n\",\u001b[m\r\n",
      "     \"#add all files with space single period\\n\",\u001b[m\r\n",
      "\u001b[31m-    \"!git add coconuts.txt\"\u001b[m\r\n",
      "\u001b[32m+\u001b[m\u001b[32m    \"!git add coconuts.txt .gitignore LICENSE.txt README.md\"\u001b[m\r\n",
      "    ]\u001b[m\r\n",
      "   },\u001b[m\r\n",
      "   {\u001b[m\r\n"
     ]
    }
   ],
   "source": [
    "#show what is NOT staged\n",
    "!git diff"
   ]
  },
  {
   "cell_type": "code",
   "execution_count": 7,
   "metadata": {},
   "outputs": [],
   "source": [
    "#show what IS staged\n",
    "!git diff --staged"
   ]
  },
  {
   "cell_type": "code",
   "execution_count": 8,
   "metadata": {},
   "outputs": [],
   "source": [
    "#synonym with --staged\n",
    "!git diff --cached"
   ]
  },
  {
   "cell_type": "code",
   "execution_count": null,
   "metadata": {},
   "outputs": [],
   "source": [
    "# use the option '-a' to auto stage every file, do not need to $git add\n",
    "!git commit -m \"Its only a model\""
   ]
  },
  {
   "cell_type": "code",
   "execution_count": null,
   "metadata": {
    "scrolled": true
   },
   "outputs": [],
   "source": [
    "!git reset #file  unstages the file, but preserves its contents"
   ]
  },
  {
   "cell_type": "code",
   "execution_count": 41,
   "metadata": {},
   "outputs": [],
   "source": [
    "#list all local branches in current directory\n",
    "!git branch"
   ]
  },
  {
   "cell_type": "code",
   "execution_count": 11,
   "metadata": {},
   "outputs": [
    {
     "name": "stdout",
     "output_type": "stream",
     "text": [
      "rm: cannot remove 'COCONUTS.md': No such file or directory\r\n"
     ]
    }
   ],
   "source": [
    "!rm COCONUTS.md"
   ]
  },
  {
   "cell_type": "code",
   "execution_count": 12,
   "metadata": {},
   "outputs": [
    {
     "name": "stdout",
     "output_type": "stream",
     "text": [
      "fatal: pathspec 'COCONUTS.md' did not match any files\r\n"
     ]
    }
   ],
   "source": [
    "#if you simply rm, the file will show up in \"Changed but not updated\"\n",
    "!git rm COCONUTS.md"
   ]
  },
  {
   "cell_type": "code",
   "execution_count": 13,
   "metadata": {},
   "outputs": [
    {
     "name": "stdout",
     "output_type": "stream",
     "text": [
      "fatal: pathspec 'README' did not match any files\r\n"
     ]
    }
   ],
   "source": [
    "#keep file in directory, but not in git staging\n",
    "!git rm --cached README"
   ]
  },
  {
   "cell_type": "code",
   "execution_count": 14,
   "metadata": {},
   "outputs": [
    {
     "name": "stdout",
     "output_type": "stream",
     "text": [
      "fatal: pathspec 'log/*.log' did not match any files\r\n"
     ]
    }
   ],
   "source": [
    "!git rm log/\\*.log"
   ]
  },
  {
   "cell_type": "code",
   "execution_count": 15,
   "metadata": {},
   "outputs": [
    {
     "name": "stdout",
     "output_type": "stream",
     "text": [
      "fatal: pathspec '*~' did not match any files\r\n"
     ]
    }
   ],
   "source": [
    "!git rm \\*~"
   ]
  },
  {
   "cell_type": "code",
   "execution_count": null,
   "metadata": {},
   "outputs": [],
   "source": []
  },
  {
   "cell_type": "markdown",
   "metadata": {},
   "source": [
    "###Group changes, name a series of commits & combine completed efforts"
   ]
  },
  {
   "cell_type": "code",
   "execution_count": null,
   "metadata": {},
   "outputs": [],
   "source": [
    "#create a new branch\n",
    "!git branch semprini"
   ]
  },
  {
   "cell_type": "code",
   "execution_count": null,
   "metadata": {},
   "outputs": [],
   "source": [
    "#switch to the new branch\n",
    "!git checkout semprini"
   ]
  },
  {
   "cell_type": "code",
   "execution_count": null,
   "metadata": {},
   "outputs": [],
   "source": [
    "#combine the specified branch's history into the current branch\n",
    "!git merge master"
   ]
  },
  {
   "cell_type": "code",
   "execution_count": null,
   "metadata": {},
   "outputs": [],
   "source": [
    "#delete a specific branch\n",
    "!git branch -d semprini"
   ]
  },
  {
   "cell_type": "code",
   "execution_count": null,
   "metadata": {},
   "outputs": [],
   "source": [
    "#delete the file \n",
    "!git rm coconuts.txt"
   ]
  },
  {
   "cell_type": "code",
   "execution_count": null,
   "metadata": {},
   "outputs": [],
   "source": [
    "#remove the file from version control, but preserve locally\n",
    "!git rm --cached coconuts.txt"
   ]
  },
  {
   "cell_type": "code",
   "execution_count": null,
   "metadata": {},
   "outputs": [],
   "source": [
    "#change the file name and prepare for commit\n",
    "!git mv coconuts.txt coconut2x.md"
   ]
  },
  {
   "cell_type": "code",
   "execution_count": null,
   "metadata": {},
   "outputs": [],
   "source": [
    "%writefile .gitignore\n",
    "#suppress tracking\n",
    "#create a text file named .gitignore\n",
    "\"\"\"\n",
    "*.log\n",
    "build/\n",
    "temp-*\n",
    ".env\n",
    "\n",
    "\"\"\""
   ]
  },
  {
   "cell_type": "code",
   "execution_count": null,
   "metadata": {},
   "outputs": [],
   "source": [
    "#list all ignored files in the project\n",
    "!git ls-files --other --ignored --exclude-standard"
   ]
  },
  {
   "cell_type": "code",
   "execution_count": null,
   "metadata": {},
   "outputs": [],
   "source": []
  },
  {
   "cell_type": "code",
   "execution_count": null,
   "metadata": {},
   "outputs": [],
   "source": [
    "#save fragments, shelve and restore incomplete changes\n",
    "#temporarily store all modified tracked files\n",
    "!git stash"
   ]
  },
  {
   "cell_type": "code",
   "execution_count": null,
   "metadata": {},
   "outputs": [],
   "source": [
    "#restore the most recently stashed files\n",
    "!git stash pop"
   ]
  },
  {
   "cell_type": "code",
   "execution_count": null,
   "metadata": {},
   "outputs": [],
   "source": [
    "#list all stashed changesets\n",
    "!git stash list"
   ]
  },
  {
   "cell_type": "code",
   "execution_count": null,
   "metadata": {},
   "outputs": [],
   "source": [
    "#discard the most recent stashed changeset\n",
    "!git stash drop"
   ]
  },
  {
   "cell_type": "code",
   "execution_count": null,
   "metadata": {},
   "outputs": [],
   "source": [
    "#review history, browse and inspectthe evolution of project files, option --oneline\n",
    "!git log "
   ]
  },
  {
   "cell_type": "code",
   "execution_count": null,
   "metadata": {
    "scrolled": true
   },
   "outputs": [],
   "source": [
    "#list version history for a file, including renames\n",
    "!git log --follow coconut.txt"
   ]
  },
  {
   "cell_type": "code",
   "execution_count": null,
   "metadata": {},
   "outputs": [],
   "source": [
    "#show content differences between two branches\n",
    "!git diff branch_lancelot branch_sir_robin"
   ]
  },
  {
   "cell_type": "code",
   "execution_count": null,
   "metadata": {},
   "outputs": [],
   "source": [
    "#output metadata and content changes of the specified commit\n",
    "!git show [commit]"
   ]
  },
  {
   "cell_type": "code",
   "execution_count": null,
   "metadata": {},
   "outputs": [],
   "source": [
    "#redo commits, erase mistakes and craft replacement history\n",
    "!git reset [commit]"
   ]
  },
  {
   "cell_type": "code",
   "execution_count": null,
   "metadata": {},
   "outputs": [],
   "source": [
    "#discard all history and changes back to the specified commit\n",
    "!git reset --hard [commit]"
   ]
  },
  {
   "cell_type": "code",
   "execution_count": null,
   "metadata": {},
   "outputs": [],
   "source": [
    "#synchronize changes, regiser a repository bookmark and exchange version history\n",
    "!git fetch [bookmark]"
   ]
  },
  {
   "cell_type": "code",
   "execution_count": null,
   "metadata": {},
   "outputs": [],
   "source": [
    "#combine bookmark's branch into current local branch\n",
    "!git merge [bookmark]/[branch]"
   ]
  },
  {
   "cell_type": "code",
   "execution_count": 66,
   "metadata": {},
   "outputs": [
    {
     "name": "stdout",
     "output_type": "stream",
     "text": [
      "error: src refspec mtPython does not match any.\r\n",
      "error: failed to push some refs to 'https://github.com/worker-bee-micah/practice-only.git'\r\n"
     ]
    }
   ],
   "source": [
    "#upload all local branch commits to GitHub\n",
    "#!git push [alias] [branch]\n",
    "!git push -u camelot mtPython"
   ]
  },
  {
   "cell_type": "code",
   "execution_count": null,
   "metadata": {},
   "outputs": [],
   "source": [
    "#download bookmark history and incorporate changes"
   ]
  },
  {
   "cell_type": "code",
   "execution_count": 67,
   "metadata": {},
   "outputs": [
    {
     "name": "stdout",
     "output_type": "stream",
     "text": [
      "total 60\r\n",
      "drwxrwxr-x 5 tapew0rm tapew0rm  4096 Mar  5 00:30 .\r\n",
      "drwxrwxr-x 4 tapew0rm tapew0rm  4096 Mar  4 22:39 ..\r\n",
      "-rw-rw-r-- 1 tapew0rm tapew0rm 22739 Mar  5 00:30 00_mt_git_cheat_sheet.ipynb\r\n",
      "-rw-rw-r-- 1 tapew0rm tapew0rm    32 Mar  5 00:23 coconuts.txt\r\n",
      "drwxrwxr-x 7 tapew0rm tapew0rm  4096 Mar  5 00:28 .git\r\n",
      "-rw-rw-r-- 1 tapew0rm tapew0rm   120 Mar  5 00:26 .gitignore\r\n",
      "drwxrwxr-x 2 tapew0rm tapew0rm  4096 Mar  4 22:50 .ipynb_checkpoints\r\n",
      "-rw-rw-r-- 1 tapew0rm tapew0rm    57 Mar  5 00:23 LICENSE.txt\r\n",
      "-rw-rw-r-- 1 tapew0rm tapew0rm    30 Mar  5 00:23 README.md\r\n",
      "drwxrwxr-x 3 tapew0rm tapew0rm  4096 Mar  4 22:49 test_py_mt\r\n"
     ]
    }
   ],
   "source": [
    "!ls -al"
   ]
  },
  {
   "cell_type": "code",
   "execution_count": null,
   "metadata": {},
   "outputs": [],
   "source": []
  }
 ],
 "metadata": {
  "kernelspec": {
   "display_name": "Python 3",
   "language": "python",
   "name": "python3"
  },
  "language_info": {
   "codemirror_mode": {
    "name": "ipython",
    "version": 3
   },
   "file_extension": ".py",
   "mimetype": "text/x-python",
   "name": "python",
   "nbconvert_exporter": "python",
   "pygments_lexer": "ipython3",
   "version": "3.6.5"
  }
 },
 "nbformat": 4,
 "nbformat_minor": 2
}
