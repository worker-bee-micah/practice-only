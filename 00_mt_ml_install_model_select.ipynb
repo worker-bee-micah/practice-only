{
 "cells": [
  {
   "cell_type": "markdown",
   "metadata": {},
   "source": [
    "#Python notes for using scikit-learn and installing environments\n",
    "'''\n",
    "\n",
    "\n",
    "\n",
    "'''"
   ]
  },
  {
   "cell_type": "code",
   "execution_count": null,
   "metadata": {},
   "outputs": [],
   "source": [
    "!mkdir ~/app/spark && cd ~/app/spark"
   ]
  },
  {
   "cell_type": "code",
   "execution_count": null,
   "metadata": {
    "scrolled": false
   },
   "outputs": [],
   "source": [
    "!pwd && ls -al"
   ]
  },
  {
   "cell_type": "code",
   "execution_count": 1,
   "metadata": {
    "scrolled": true
   },
   "outputs": [
    {
     "name": "stdout",
     "output_type": "stream",
     "text": [
      "--2019-03-20 23:59:15--  https://www-us.apache.org/dist/spark/spark-2.4.0/spark-2.4.0-bin-hadoop2.7.tgz\n",
      "Resolving www-us.apache.org (www-us.apache.org)... 40.79.78.1\n",
      "Connecting to www-us.apache.org (www-us.apache.org)|40.79.78.1|:443... connected.\n",
      "HTTP request sent, awaiting response... 200 OK\n",
      "Length: 227893062 (217M) [application/x-gzip]\n",
      "Saving to: ‘spark-2.4.0-bin-hadoop2.7.tgz’\n",
      "\n",
      "spark-2.4.0-bin-had 100%[===================>] 217.33M  12.9MB/s    in 17s     \n",
      "\n",
      "2019-03-20 23:59:33 (12.7 MB/s) - ‘spark-2.4.0-bin-hadoop2.7.tgz’ saved [227893062/227893062]\n",
      "\n"
     ]
    }
   ],
   "source": [
    "!wget https://www-us.apache.org/dist/spark/spark-2.4.0/spark-2.4.0-bin-hadoop2.7.tgz"
   ]
  },
  {
   "cell_type": "code",
   "execution_count": null,
   "metadata": {},
   "outputs": [],
   "source": [
    "!tar tzvf spark-2.4.0-bin-hadoop2.7.tgz"
   ]
  },
  {
   "cell_type": "code",
   "execution_count": 6,
   "metadata": {},
   "outputs": [
    {
     "name": "stdout",
     "output_type": "stream",
     "text": [
      "00_mt_core_types_loops.ipynb\t      Eye_of_Parrot.npy\r\n",
      "00_mt_git_cheat_sheet.ipynb\t      LICENSE\r\n",
      "00_mt_ml_install_model_select.ipynb   LICENSE.txt\r\n",
      "00_mt_numpy_codebase.ipynb\t      parrot_archive.npz\r\n",
      "00_mt_py_functions_tests_loops.ipynb  README.md\r\n",
      "coconuts.txt\t\t\t      test_py_mt\r\n",
      "compressed_parrot_whizzo.npz\t      updater\r\n"
     ]
    }
   ],
   "source": [
    "!tar "
   ]
  },
  {
   "cell_type": "code",
   "execution_count": 5,
   "metadata": {},
   "outputs": [],
   "source": []
  },
  {
   "cell_type": "code",
   "execution_count": null,
   "metadata": {},
   "outputs": [],
   "source": [
    "!"
   ]
  }
 ],
 "metadata": {
  "kernelspec": {
   "display_name": "Python 3",
   "language": "python",
   "name": "python3"
  },
  "language_info": {
   "codemirror_mode": {
    "name": "ipython",
    "version": 3
   },
   "file_extension": ".py",
   "mimetype": "text/x-python",
   "name": "python",
   "nbconvert_exporter": "python",
   "pygments_lexer": "ipython3",
   "version": "3.6.5"
  }
 },
 "nbformat": 4,
 "nbformat_minor": 2
}
