{
 "cells": [
  {
   "cell_type": "markdown",
   "metadata": {},
   "source": [
    "#Regular Epressions to find patterns within text\n",
    "\n",
    "\n",
    "At the end of this notebook you should be able to create a program\n",
    "to find if the word semprini, phone numbers and URLs in a file.\n",
    "\n",
    "Feed a raw string to the re.compile() function, \n",
    "\n",
    "The match object comes from the search() method.\n",
    "\n",
    "The group() method is what actually returns the string, "
   ]
  },
  {
   "cell_type": "code",
   "execution_count": 7,
   "metadata": {},
   "outputs": [],
   "source": [
    "import re\n",
    "import pandas as pd"
   ]
  },
  {
   "cell_type": "code",
   "execution_count": 17,
   "metadata": {},
   "outputs": [],
   "source": [
    "bag_o_words = open('data/monty_python_keywords.txt', 'r')"
   ]
  },
  {
   "cell_type": "code",
   "execution_count": null,
   "metadata": {
    "scrolled": true
   },
   "outputs": [],
   "source": [
    "phone_regex = re.compile(r'''\n",
    "    (\\d{3}|\\(\\d{3}\\))?\n",
    "    (\\s|-|\\.)?\n",
    "    (\\d{3})\n",
    "    (\\s|-|\\.)\n",
    "    (\\d{4})\n",
    "    (\\s*(ext|ext.|x)\\s*(\\d{2,5}))?\n",
    "    )''', re.VERBOSE\n"
   ]
  },
  {
   "cell_type": "code",
   "execution_count": null,
   "metadata": {},
   "outputs": [],
   "source": [
    "mo1 = phone_regex.search(str(bag_o_words))"
   ]
  },
  {
   "cell_type": "code",
   "execution_count": null,
   "metadata": {
    "scrolled": true
   },
   "outputs": [],
   "source": [
    "mo1[2]"
   ]
  },
  {
   "cell_type": "code",
   "execution_count": null,
   "metadata": {},
   "outputs": [],
   "source": []
  },
  {
   "cell_type": "code",
   "execution_count": null,
   "metadata": {},
   "outputs": [],
   "source": []
  },
  {
   "cell_type": "markdown",
   "metadata": {},
   "source": [
    "#Regular Expressions I/O\n",
    "\n",
    "\n",
    "Open files, find patterns and change the data, save as a new file."
   ]
  },
  {
   "cell_type": "code",
   "execution_count": 1,
   "metadata": {},
   "outputs": [],
   "source": [
    "inserter = open('data/monty_python_keywords.txt', 'w')\n",
    "inserter.write('An unauthorized insertion has occured\\n')\n",
    "inserter.write('No further action is requred.\\n')\n",
    "inserter.close()"
   ]
  },
  {
   "cell_type": "code",
   "execution_count": 9,
   "metadata": {},
   "outputs": [
    {
     "data": {
      "text/plain": [
       "'An unauthorized insertion has occured\\n'"
      ]
     },
     "execution_count": 9,
     "metadata": {},
     "output_type": "execute_result"
    }
   ],
   "source": [
    "reader = open('data/monty_python_keywords.txt')\n",
    "reader.readline()"
   ]
  },
  {
   "cell_type": "code",
   "execution_count": 10,
   "metadata": {},
   "outputs": [
    {
     "data": {
      "text/plain": [
       "'No further action is requred.\\n'"
      ]
     },
     "execution_count": 10,
     "metadata": {},
     "output_type": "execute_result"
    }
   ],
   "source": [
    "reader.readline()  #if you run this file again, it will return empty bottom of file"
   ]
  },
  {
   "cell_type": "code",
   "execution_count": 12,
   "metadata": {},
   "outputs": [
    {
     "name": "stdout",
     "output_type": "stream",
     "text": [
      "An unauthorized insertion has occured\n",
      "No further action is requred.\n",
      "\n"
     ]
    }
   ],
   "source": [
    "print(open('data/monty_python_keywords.txt').read())"
   ]
  },
  {
   "cell_type": "code",
   "execution_count": 13,
   "metadata": {},
   "outputs": [
    {
     "name": "stdout",
     "output_type": "stream",
     "text": [
      "An unauthorized insertion has occured\n",
      "No further action is requred.\n"
     ]
    }
   ],
   "source": [
    "for line in open('data/monty_python_keywords.txt'):\n",
    "    print(line, end='')\n",
    "#file iteratiors may be faster than reading"
   ]
  },
  {
   "cell_type": "code",
   "execution_count": 14,
   "metadata": {},
   "outputs": [],
   "source": [
    "m, w, t = 666, 111, 333\n",
    "s = 'Semprini'\n",
    "d = {'castle' : 1, 'anthrax' : 2}\n",
    "l = [6,7,8]"
   ]
  },
  {
   "cell_type": "code",
   "execution_count": 16,
   "metadata": {},
   "outputs": [],
   "source": [
    "f = open('data_spammer.txt', 'w') #create output file"
   ]
  },
  {
   "cell_type": "code",
   "execution_count": 17,
   "metadata": {},
   "outputs": [
    {
     "data": {
      "text/plain": [
       "9"
      ]
     },
     "execution_count": 17,
     "metadata": {},
     "output_type": "execute_result"
    }
   ],
   "source": [
    "f.write(s + '\\n')   #insertthe string and end line"
   ]
  },
  {
   "cell_type": "code",
   "execution_count": 18,
   "metadata": {
    "scrolled": true
   },
   "outputs": [
    {
     "data": {
      "text/plain": [
       "12"
      ]
     },
     "execution_count": 18,
     "metadata": {},
     "output_type": "execute_result"
    }
   ],
   "source": [
    "f.write('%s,%s,%s\\n' % (m, w, t)) #convert integers to strings"
   ]
  },
  {
   "cell_type": "code",
   "execution_count": 20,
   "metadata": {},
   "outputs": [],
   "source": [
    "f.write(str(l) + '$' + str(d) + '\\n') #convert and $eperate\n",
    "f.close()"
   ]
  },
  {
   "cell_type": "code",
   "execution_count": 21,
   "metadata": {},
   "outputs": [],
   "source": [
    "semprini = open('data/monty_python_keywords.txt').read()"
   ]
  },
  {
   "cell_type": "code",
   "execution_count": 22,
   "metadata": {},
   "outputs": [
    {
     "data": {
      "text/plain": [
       "'An unauthorized insertion has occured\\nNo further action is requred.\\n'"
      ]
     },
     "execution_count": 22,
     "metadata": {},
     "output_type": "execute_result"
    }
   ],
   "source": [
    "semprini"
   ]
  },
  {
   "cell_type": "code",
   "execution_count": 23,
   "metadata": {},
   "outputs": [
    {
     "name": "stdout",
     "output_type": "stream",
     "text": [
      "An unauthorized insertion has occured\n",
      "No further action is requred.\n",
      "\n"
     ]
    }
   ],
   "source": [
    "print(semprini)"
   ]
  },
  {
   "cell_type": "code",
   "execution_count": null,
   "metadata": {},
   "outputs": [],
   "source": [
    "%%writefile semprini_detector.py\n",
    "\n",
    "\n",
    "words_file = 'data/monty_python_keywords.txt'\n",
    "try:\n",
    "\tf = open(words_file)\n",
    "\tline = f.readline()\n",
    "\twhile line != '':\n",
    "\t\tif line == 'semprini\\n':\n",
    "\t\t\tprint('A semprini has been detected in the file')\n",
    "\t\t\tbreak\n",
    "\t\tline = f.readline()\n",
    "\tf.close()\t\n",
    "except IOError:\n",
    "\tprint(\"Cannot find file: \" + words_file)"
   ]
  },
  {
   "cell_type": "code",
   "execution_count": null,
   "metadata": {},
   "outputs": [],
   "source": [
    "!python semprini_detector.py"
   ]
  }
 ],
 "metadata": {
  "kernelspec": {
   "display_name": "Python 3",
   "language": "python",
   "name": "python3"
  },
  "language_info": {
   "codemirror_mode": {
    "name": "ipython",
    "version": 3
   },
   "file_extension": ".py",
   "mimetype": "text/x-python",
   "name": "python",
   "nbconvert_exporter": "python",
   "pygments_lexer": "ipython3",
   "version": "3.6.5"
  }
 },
 "nbformat": 4,
 "nbformat_minor": 2
}
