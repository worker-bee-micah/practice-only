{
 "cells": [
  {
   "cell_type": "code",
   "execution_count": 117,
   "metadata": {},
   "outputs": [
    {
     "name": "stdout",
     "output_type": "stream",
     "text": [
      "Collecting pip\n",
      "\u001b[?25l  Downloading https://files.pythonhosted.org/packages/d8/f3/413bab4ff08e1fc4828dfc59996d721917df8e8583ea85385d51125dceff/pip-19.0.3-py2.py3-none-any.whl (1.4MB)\n",
      "\u001b[K    100% |████████████████████████████████| 1.4MB 9.9MB/s eta 0:00:01\n",
      "\u001b[?25hInstalling collected packages: pip\n",
      "  Found existing installation: pip 18.1\n",
      "    Uninstalling pip-18.1:\n",
      "      Successfully uninstalled pip-18.1\n",
      "Successfully installed pip-19.0.3\n",
      "Requirement already satisfied: StringGenerator in ./anaconda3/lib/python3.6/site-packages (0.3.1)\n"
     ]
    }
   ],
   "source": [
    "!pip3 install --upgrade pip\n",
    "!pip3 install StringGenerator"
   ]
  },
  {
   "cell_type": "code",
   "execution_count": 118,
   "metadata": {},
   "outputs": [],
   "source": [
    "from random import randint, randrange, uniform\n",
    "import string\n",
    "from strgen import StringGenerator as SG"
   ]
  },
  {
   "cell_type": "code",
   "execution_count": 119,
   "metadata": {},
   "outputs": [
    {
     "name": "stdout",
     "output_type": "stream",
     "text": [
      "316\n"
     ]
    }
   ],
   "source": [
    "print(randint(234, 567))"
   ]
  },
  {
   "cell_type": "code",
   "execution_count": 59,
   "metadata": {},
   "outputs": [],
   "source": [
    "irand = randrange(0, 10)\n",
    "frand = uniform(0, 10)"
   ]
  },
  {
   "cell_type": "code",
   "execution_count": 60,
   "metadata": {},
   "outputs": [
    {
     "data": {
      "text/plain": [
       "6"
      ]
     },
     "execution_count": 60,
     "metadata": {},
     "output_type": "execute_result"
    }
   ],
   "source": [
    "irand"
   ]
  },
  {
   "cell_type": "code",
   "execution_count": 63,
   "metadata": {},
   "outputs": [
    {
     "data": {
      "text/plain": [
       "3.622256300906219"
      ]
     },
     "execution_count": 63,
     "metadata": {},
     "output_type": "execute_result"
    }
   ],
   "source": [
    "frand"
   ]
  },
  {
   "cell_type": "code",
   "execution_count": 177,
   "metadata": {},
   "outputs": [],
   "source": [
    "A = [randint(0, 999) for p in range(0, 11)]"
   ]
  },
  {
   "cell_type": "code",
   "execution_count": 167,
   "metadata": {},
   "outputs": [],
   "source": [
    "A.sort()"
   ]
  },
  {
   "cell_type": "code",
   "execution_count": 178,
   "metadata": {},
   "outputs": [
    {
     "data": {
      "text/plain": [
       "[572, 581, 378, 97, 246, 564, 142, 637, 652, 590, 517]"
      ]
     },
     "execution_count": 178,
     "metadata": {},
     "output_type": "execute_result"
    }
   ],
   "source": [
    "A"
   ]
  },
  {
   "cell_type": "code",
   "execution_count": null,
   "metadata": {},
   "outputs": [],
   "source": []
  },
  {
   "cell_type": "code",
   "execution_count": 186,
   "metadata": {},
   "outputs": [],
   "source": [
    "def id_generator(size=16, chars=string.ascii_uppercase + string.digits):\n",
    "    #return ''.join(random.choice(chars) for _ in range(size))\n",
    "    #return ''.join(random.SystemRandom().choice(string.ascii_uppercase + string.digits) for _ in range(size)\n",
    "    #return ''.join(random.choices(string.ascii_uppercase + string.digits, k=size))\n",
    "    return ''.join(random.choices(string.ascii_uppercase + string.digits, k=size))"
   ]
  },
  {
   "cell_type": "markdown",
   "metadata": {},
   "source": [
    "\"\"\"\n",
    "source = 'https://stackoverflow.com/questions/2257441/random-string-generation-with-upper-case-letters-and-digits-in-python/2257449#2257449'\n",
    "We import string, a module that contains sequences of common ASCII characters, and random, a module that deals with random generation.\n",
    "\n",
    "string.ascii_uppercase + string.digits just concatenates the list of characters representing uppercase ASCII chars and digits:\n",
    "\n",
    ">>> string.ascii_uppercase\n",
    "'ABCDEFGHIJKLMNOPQRSTUVWXYZ'\n",
    ">>> string.digits\n",
    "'0123456789'\n",
    ">>> string.ascii_uppercase + string.digits\n",
    "'ABCDEFGHIJKLMNOPQRSTUVWXYZ0123456789'\n",
    "\n",
    "\"\"\""
   ]
  },
  {
   "cell_type": "code",
   "execution_count": 187,
   "metadata": {},
   "outputs": [
    {
     "data": {
      "text/plain": [
       "'VN5T2Y4J65OY9IAX'"
      ]
     },
     "execution_count": 187,
     "metadata": {},
     "output_type": "execute_result"
    }
   ],
   "source": [
    "id_generator()"
   ]
  },
  {
   "cell_type": "code",
   "execution_count": 124,
   "metadata": {},
   "outputs": [
    {
     "ename": "SyntaxError",
     "evalue": "(unicode error) 'unicodeescape' codec can't decode bytes in position 1-2: truncated \\uXXXX escape (<ipython-input-124-0d713d8aed6b>, line 1)",
     "output_type": "error",
     "traceback": [
      "\u001b[0;36m  File \u001b[0;32m\"<ipython-input-124-0d713d8aed6b>\"\u001b[0;36m, line \u001b[0;32m1\u001b[0m\n\u001b[0;31m    SG(\"[\\u\\d]{6}\").render()\u001b[0m\n\u001b[0m      ^\u001b[0m\n\u001b[0;31mSyntaxError\u001b[0m\u001b[0;31m:\u001b[0m (unicode error) 'unicodeescape' codec can't decode bytes in position 1-2: truncated \\uXXXX escape\n"
     ]
    }
   ],
   "source": [
    "SG(\"[\\u\\d]{6}\").render()"
   ]
  },
  {
   "cell_type": "code",
   "execution_count": 126,
   "metadata": {
    "scrolled": true
   },
   "outputs": [
    {
     "data": {
      "text/plain": [
       "['DgAJIiBKQq', 'GHMkrO8by4', 'kzyh17mvk3', 'RJkmxNPjdw', 'gnqqFllJ2i']"
      ]
     },
     "execution_count": 126,
     "metadata": {},
     "output_type": "execute_result"
    }
   ],
   "source": [
    " SG(\"[\\l\\d]{10}\").render_list(5,unique=True)"
   ]
  },
  {
   "cell_type": "code",
   "execution_count": 127,
   "metadata": {},
   "outputs": [
    {
     "data": {
      "text/plain": [
       "'Jn4r&OeR5aQ'"
      ]
     },
     "execution_count": 127,
     "metadata": {},
     "output_type": "execute_result"
    }
   ],
   "source": [
    "SG(\"[\\l\\d]{10}&[\\p]\").render()"
   ]
  },
  {
   "cell_type": "code",
   "execution_count": 132,
   "metadata": {},
   "outputs": [
    {
     "data": {
      "text/plain": [
       "'12F9CB'"
      ]
     },
     "execution_count": 132,
     "metadata": {},
     "output_type": "execute_result"
    }
   ],
   "source": [
    "import uuid; uuid.uuid4().hex.upper()[0:6]"
   ]
  },
  {
   "cell_type": "code",
   "execution_count": 131,
   "metadata": {},
   "outputs": [
    {
     "name": "stdout",
     "output_type": "stream",
     "text": [
      "303F34\n"
     ]
    }
   ],
   "source": [
    "import uuid\n",
    "\n",
    "def my_random_string(string_length=10):\n",
    "    \"\"\"Returns a random string of length string_length.\"\"\"\n",
    "    random = str(uuid.uuid4()) # Convert UUID format to a Python string.\n",
    "    random = random.upper() # Make all characters uppercase.\n",
    "    random = random.replace(\"-\",\"\") # Remove the UUID '-'.\n",
    "    return random[0:string_length] # Return the random string.\n",
    "\n",
    "print(my_random_string(6))"
   ]
  },
  {
   "cell_type": "code",
   "execution_count": 155,
   "metadata": {},
   "outputs": [
    {
     "data": {
      "text/plain": [
       "[30, 597, 838, 766, 876, 142, 34, 206, 334, 966, 661]"
      ]
     },
     "execution_count": 155,
     "metadata": {},
     "output_type": "execute_result"
    }
   ],
   "source": [
    "A"
   ]
  },
  {
   "cell_type": "code",
   "execution_count": 42,
   "metadata": {},
   "outputs": [],
   "source": [
    "A = [1, 3, 6, 4, 1, 2]"
   ]
  },
  {
   "cell_type": "code",
   "execution_count": 3,
   "metadata": {},
   "outputs": [],
   "source": [
    "def solution(A):\n",
    "    # write your code in Python 3.6\n",
    "    min = [min.A]\n",
    "    #while min not in a:\n",
    "    max     \n",
    "\n",
    "\n",
    "    pass"
   ]
  },
  {
   "cell_type": "code",
   "execution_count": 169,
   "metadata": {},
   "outputs": [],
   "source": [
    "def smallest_missing_positive_integer(A):\n",
    "    A.sort()\n",
    "    N = len(A)\n",
    "    \n",
    "    i = 0\n",
    "    previous = 0\n",
    "    while i < N:\n",
    "        current = A[i]\n",
    "\n",
    "        if current > 0:\n",
    "            if current > previous + 1: # breaks consecutiveness\n",
    "                return previous + 1\n",
    "            else:\n",
    "                previous = current\n",
    "        \n",
    "        i += 1\n",
    "    \n",
    "    return max(previous+1, current+1)"
   ]
  },
  {
   "cell_type": "code",
   "execution_count": 170,
   "metadata": {},
   "outputs": [
    {
     "name": "stdout",
     "output_type": "stream",
     "text": [
      "1\n"
     ]
    }
   ],
   "source": [
    "print(smallest_missing_positive_integer(A))"
   ]
  },
  {
   "cell_type": "code",
   "execution_count": 171,
   "metadata": {},
   "outputs": [],
   "source": [
    "def second_largest(A):\n",
    "    m1, m2 = float('inf'), float('inf')\n",
    "    for x in A:\n",
    "        if x >= m1:\n",
    "            m1, m2 = x, m1\n",
    "        elif x > m2:\n",
    "            m2 = x\n",
    "    return m2\n"
   ]
  },
  {
   "cell_type": "code",
   "execution_count": 172,
   "metadata": {
    "scrolled": true
   },
   "outputs": [
    {
     "data": {
      "text/plain": [
       "inf"
      ]
     },
     "execution_count": 172,
     "metadata": {},
     "output_type": "execute_result"
    }
   ],
   "source": [
    "second_largest(A)"
   ]
  },
  {
   "cell_type": "code",
   "execution_count": 173,
   "metadata": {},
   "outputs": [],
   "source": [
    "import heapq\n",
    "def second_largest_2(numbers):\n",
    "    return heapq.nsmallest(2, numbers)[-1]\n"
   ]
  },
  {
   "cell_type": "code",
   "execution_count": 174,
   "metadata": {},
   "outputs": [
    {
     "data": {
      "text/plain": [
       "107"
      ]
     },
     "execution_count": 174,
     "metadata": {},
     "output_type": "execute_result"
    }
   ],
   "source": [
    "second_largest_2(A)"
   ]
  },
  {
   "cell_type": "code",
   "execution_count": 144,
   "metadata": {},
   "outputs": [],
   "source": [
    "def second_smallest(A):\n",
    "    m1, m2 = float('inf'), float('inf')\n",
    "    for x in A:\n",
    "        if x <= m1:\n",
    "            m1, m2 = x, m1\n",
    "        elif x < m2:\n",
    "            m2 = x\n",
    "    return m2"
   ]
  },
  {
   "cell_type": "code",
   "execution_count": 25,
   "metadata": {},
   "outputs": [
    {
     "name": "stdout",
     "output_type": "stream",
     "text": [
      "2\n"
     ]
    }
   ],
   "source": [
    "s = set(A)\n",
    "print (sorted(s)[1])"
   ]
  },
  {
   "cell_type": "code",
   "execution_count": 145,
   "metadata": {
    "scrolled": true
   },
   "outputs": [
    {
     "data": {
      "text/plain": [
       "-3"
      ]
     },
     "execution_count": 145,
     "metadata": {},
     "output_type": "execute_result"
    }
   ],
   "source": [
    "second_smallest(A)"
   ]
  },
  {
   "cell_type": "code",
   "execution_count": 158,
   "metadata": {},
   "outputs": [],
   "source": [
    "def minpositive(A):\n",
    "    b = set(A)\n",
    "    ans = 1\n",
    "    while ans in A:\n",
    "       ans += 1\n",
    "    return ans"
   ]
  },
  {
   "cell_type": "code",
   "execution_count": 159,
   "metadata": {},
   "outputs": [
    {
     "name": "stdout",
     "output_type": "stream",
     "text": [
      "1\n"
     ]
    }
   ],
   "source": [
    "print (minpositive(A))"
   ]
  },
  {
   "cell_type": "code",
   "execution_count": 86,
   "metadata": {},
   "outputs": [],
   "source": [
    "A = [-1, -5, -3]"
   ]
  },
  {
   "cell_type": "code",
   "execution_count": 175,
   "metadata": {},
   "outputs": [],
   "source": [
    "from itertools import count, filterfalse \n",
    "\n",
    "def minpositive2(A):\n",
    "    return(next(filterfalse(set(A).__contains__, count(1))))"
   ]
  },
  {
   "cell_type": "code",
   "execution_count": 176,
   "metadata": {},
   "outputs": [
    {
     "name": "stdout",
     "output_type": "stream",
     "text": [
      "1\n"
     ]
    }
   ],
   "source": [
    "print (minpositive2(A))"
   ]
  },
  {
   "cell_type": "code",
   "execution_count": null,
   "metadata": {},
   "outputs": [],
   "source": []
  }
 ],
 "metadata": {
  "kernelspec": {
   "display_name": "Python 3",
   "language": "python",
   "name": "python3"
  },
  "language_info": {
   "codemirror_mode": {
    "name": "ipython",
    "version": 3
   },
   "file_extension": ".py",
   "mimetype": "text/x-python",
   "name": "python",
   "nbconvert_exporter": "python",
   "pygments_lexer": "ipython3",
   "version": "3.6.5"
  }
 },
 "nbformat": 4,
 "nbformat_minor": 2
}
