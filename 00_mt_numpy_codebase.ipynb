{
 "cells": [
  {
   "cell_type": "markdown",
   "metadata": {},
   "source": [
    "# NumPy Basics: Array Functions, Statistics and Linear Algebra\n",
    "source1 = {'Python for Data Analysis' : 'Wes McKinney' : 'Ch04'}\n",
    "source2 = {'author' : 'Janani Ravi', 'title' : 'Working with Multidimenstional Data Using Numpy', 'site' : 'pluralsight.com'}"
   ]
  },
  {
   "cell_type": "code",
   "execution_count": null,
   "metadata": {},
   "outputs": [],
   "source": [
    "##Arrays & Vectorized Computation\n",
    "\"\"\"\n",
    "Numerical Python features :\n",
    "ndarray, an efficient multidimensional array providing fast \n",
    "         array-oriented arithmetic operations and flexible\n",
    "         broadcasting capabilities\n",
    "Mathmatical functions for fast operations on entire arrays of data\n",
    "         without having to write loops\n",
    "Tools for reading/writing array data to disk and working with memory\n",
    "        -mapped files\n",
    "Linear algebra, random number generators, Fourier transformations\n",
    "A C API for connecting Numpy with libs in C, C++ or FOURTRAN\n",
    "Fast vectorized array operations for data munging, subsetting\n",
    "        and filtering, transformation, et al computations\n",
    "Common array algorithms like sorting, unique and set operations\n",
    "Efficient descriptive statistics, aggregating & summarizing data\n",
    "    Pandas is better for tabular, time series not in np, inferential stats\n",
    "Data alignment and relational data manipulations for merging and\n",
    "    joining heterogeneous datasets\n",
    "Expressing conditional logic as arrays expressions instead of loops\n",
    "    with if-elif-else branches\n",
    "Group-wise data\n",
    "\n",
    "Efficiency designs:\n",
    "np stores data in a contiguous block of memory, independent of other\n",
    "    built in objects\n",
    "np's lib of C algorithms operate w/o any type checking or overhead\n",
    "use less memory than built-in Python sequences\n",
    "perform complex computations w/o for loops\n",
    "\n",
    "\n",
    "\"\"\""
   ]
  },
  {
   "cell_type": "code",
   "execution_count": 182,
   "metadata": {},
   "outputs": [
    {
     "name": "stdout",
     "output_type": "stream",
     "text": [
      "Collecting numpy\n",
      "\u001b[?25l  Downloading https://files.pythonhosted.org/packages/c4/33/8ec8dcdb4ede5d453047bbdbd01916dbaccdb63e98bba60989718f5f0876/numpy-1.16.2-cp27-cp27mu-manylinux1_x86_64.whl (17.0MB)\n",
      "\u001b[K    100% |████████████████████████████████| 17.0MB 2.3MB/s ta 0:00:011\n",
      "\u001b[?25hInstalling collected packages: numpy\n",
      "  Found existing installation: numpy 1.16.0\n",
      "    Uninstalling numpy-1.16.0:\n",
      "      Successfully uninstalled numpy-1.16.0\n",
      "Successfully installed numpy-1.16.2\n",
      "\u001b[33mYou are using pip version 18.1, however version 19.0.3 is available.\n",
      "You should consider upgrading via the 'pip install --upgrade pip' command.\u001b[0m\n"
     ]
    }
   ],
   "source": [
    "!pip install numpy --upgrade"
   ]
  },
  {
   "cell_type": "raw",
   "metadata": {},
   "source": [
    "import numpy as np\n",
    "np.random.seed(12345)\n",
    "import matplotlib.pyplot as plt\n",
    "plt.rc('figure', figsize=(10, 6))\n",
    "np.set_printoptions(precision=4, suppress=True)"
   ]
  },
  {
   "cell_type": "markdown",
   "metadata": {},
   "source": [
    "## File I/O with Arrays and Numpy\n",
    "np can save and load text or binary content\n",
    "default save arrays = uncompressed raw binary format\n",
    "file extension .nyp\n"
   ]
  },
  {
   "cell_type": "code",
   "execution_count": 183,
   "metadata": {},
   "outputs": [],
   "source": [
    "parrot_eye = np.eye(13)\n",
    "np.save('Eye_of_Parrot', parrot_eye)\n",
    "#parrot_eye"
   ]
  },
  {
   "cell_type": "code",
   "execution_count": 184,
   "metadata": {
    "scrolled": true
   },
   "outputs": [
    {
     "data": {
      "text/plain": [
       "array([[1., 0., 0., 0., 0., 0., 0., 0., 0., 0., 0., 0., 0.],\n",
       "       [0., 1., 0., 0., 0., 0., 0., 0., 0., 0., 0., 0., 0.],\n",
       "       [0., 0., 1., 0., 0., 0., 0., 0., 0., 0., 0., 0., 0.],\n",
       "       [0., 0., 0., 1., 0., 0., 0., 0., 0., 0., 0., 0., 0.],\n",
       "       [0., 0., 0., 0., 1., 0., 0., 0., 0., 0., 0., 0., 0.],\n",
       "       [0., 0., 0., 0., 0., 1., 0., 0., 0., 0., 0., 0., 0.],\n",
       "       [0., 0., 0., 0., 0., 0., 1., 0., 0., 0., 0., 0., 0.],\n",
       "       [0., 0., 0., 0., 0., 0., 0., 1., 0., 0., 0., 0., 0.],\n",
       "       [0., 0., 0., 0., 0., 0., 0., 0., 1., 0., 0., 0., 0.],\n",
       "       [0., 0., 0., 0., 0., 0., 0., 0., 0., 1., 0., 0., 0.],\n",
       "       [0., 0., 0., 0., 0., 0., 0., 0., 0., 0., 1., 0., 0.],\n",
       "       [0., 0., 0., 0., 0., 0., 0., 0., 0., 0., 0., 1., 0.],\n",
       "       [0., 0., 0., 0., 0., 0., 0., 0., 0., 0., 0., 0., 1.]])"
      ]
     },
     "execution_count": 184,
     "metadata": {},
     "output_type": "execute_result"
    }
   ],
   "source": [
    "np.load('Eye_of_Parrot.npy')"
   ]
  },
  {
   "cell_type": "code",
   "execution_count": 185,
   "metadata": {},
   "outputs": [],
   "source": [
    "whizzo3 = np.arange(169).reshape(13,13)"
   ]
  },
  {
   "cell_type": "code",
   "execution_count": 186,
   "metadata": {},
   "outputs": [],
   "source": [
    "#save multiple uncompressed arrays \n",
    "np.savez('parrot_archive.npz', a=parrot_eye, b=whizzo3)"
   ]
  },
  {
   "cell_type": "code",
   "execution_count": 187,
   "metadata": {},
   "outputs": [
    {
     "name": "stdout",
     "output_type": "stream",
     "text": [
      "[[  0   1   2   3   4   5   6   7   8   9  10  11  12]\n",
      " [ 13  14  15  16  17  18  19  20  21  22  23  24  25]\n",
      " [ 26  27  28  29  30  31  32  33  34  35  36  37  38]\n",
      " [ 39  40  41  42  43  44  45  46  47  48  49  50  51]\n",
      " [ 52  53  54  55  56  57  58  59  60  61  62  63  64]\n",
      " [ 65  66  67  68  69  70  71  72  73  74  75  76  77]\n",
      " [ 78  79  80  81  82  83  84  85  86  87  88  89  90]\n",
      " [ 91  92  93  94  95  96  97  98  99 100 101 102 103]\n",
      " [104 105 106 107 108 109 110 111 112 113 114 115 116]\n",
      " [117 118 119 120 121 122 123 124 125 126 127 128 129]\n",
      " [130 131 132 133 134 135 136 137 138 139 140 141 142]\n",
      " [143 144 145 146 147 148 149 150 151 152 153 154 155]\n",
      " [156 157 158 159 160 161 162 163 164 165 166 167 168]]\n",
      "----------#####------------\n",
      "[[1. 0. 0. 0. 0. 0. 0. 0. 0. 0. 0. 0. 0.]\n",
      " [0. 1. 0. 0. 0. 0. 0. 0. 0. 0. 0. 0. 0.]\n",
      " [0. 0. 1. 0. 0. 0. 0. 0. 0. 0. 0. 0. 0.]\n",
      " [0. 0. 0. 1. 0. 0. 0. 0. 0. 0. 0. 0. 0.]\n",
      " [0. 0. 0. 0. 1. 0. 0. 0. 0. 0. 0. 0. 0.]\n",
      " [0. 0. 0. 0. 0. 1. 0. 0. 0. 0. 0. 0. 0.]\n",
      " [0. 0. 0. 0. 0. 0. 1. 0. 0. 0. 0. 0. 0.]\n",
      " [0. 0. 0. 0. 0. 0. 0. 1. 0. 0. 0. 0. 0.]\n",
      " [0. 0. 0. 0. 0. 0. 0. 0. 1. 0. 0. 0. 0.]\n",
      " [0. 0. 0. 0. 0. 0. 0. 0. 0. 1. 0. 0. 0.]\n",
      " [0. 0. 0. 0. 0. 0. 0. 0. 0. 0. 1. 0. 0.]\n",
      " [0. 0. 0. 0. 0. 0. 0. 0. 0. 0. 0. 1. 0.]\n",
      " [0. 0. 0. 0. 0. 0. 0. 0. 0. 0. 0. 0. 1.]]\n"
     ]
    }
   ],
   "source": [
    "#when load .npz you get a dict-like object\n",
    "arch = np.load('parrot_archive.npz')\n",
    "print(arch['b'])\n",
    "print('----------#####------------')\n",
    "print(arch['a'])"
   ]
  },
  {
   "cell_type": "code",
   "execution_count": 188,
   "metadata": {},
   "outputs": [],
   "source": [
    "#save multiple compressed arrays \n",
    "np.savez_compressed('compressed_parrot_whizzo.npz', a=parrot_eye, b=whizzo3)"
   ]
  },
  {
   "cell_type": "code",
   "execution_count": null,
   "metadata": {},
   "outputs": [],
   "source": [
    "!rm Eye_of_Parrot.npy\n",
    "!rm parrot_archive.npz\n",
    "!rm compressed_parrot_whizzo.npz\n",
    "!git rm Eye_of_Parrot.npy\n",
    "!git rm parrot_archive.npz\n",
    "!git rm compressed_parrot_whizzo.npz"
   ]
  },
  {
   "cell_type": "code",
   "execution_count": null,
   "metadata": {},
   "outputs": [],
   "source": [
    "import numpy as np\n",
    "my_arr = np.arange(1000000)\n",
    "my_list = list(range(1000000))"
   ]
  },
  {
   "cell_type": "code",
   "execution_count": null,
   "metadata": {},
   "outputs": [],
   "source": [
    "%time for _ in range(10): my_arr2 = my_arr * 2\n",
    "%time for _ in range(10): my_list2 = [x * 2 for x in my_list]"
   ]
  },
  {
   "cell_type": "markdown",
   "metadata": {},
   "source": [
    "## The NumPy ndarray: A Multidimensional Array Object"
   ]
  },
  {
   "cell_type": "code",
   "execution_count": null,
   "metadata": {},
   "outputs": [],
   "source": [
    "import numpy as np\n",
    "# Generate some random data\n",
    "#similar syntax to scalar elements\n",
    "data = np.random.randn(3, 5)\n",
    "data"
   ]
  },
  {
   "cell_type": "code",
   "execution_count": null,
   "metadata": {},
   "outputs": [],
   "source": [
    "#write mathematical operations\n",
    "data * 10\n",
    "#data + data"
   ]
  },
  {
   "cell_type": "code",
   "execution_count": null,
   "metadata": {},
   "outputs": [],
   "source": [
    "#each array has a shape described as a tuple of the size\n",
    "#dtype, an object describing the data type\n",
    "data.shape\n",
    "data.dtype"
   ]
  },
  {
   "cell_type": "markdown",
   "metadata": {},
   "source": [
    "## Creating ndarrays (instead of lists)\n",
    "'''\n",
    "Create a sequence of number with arange\n",
    "arange(start, stop, step, dtype)\n",
    "\n",
    "From a regular python list or tuple using array functon\n",
    "array              #convert list, tuple, array or other seq. type, infers dtype unless specified\n",
    "                   #copies by default\n",
    "asarray            #convert input to ndarray, but do not copy if already an ndarray\n",
    "\n",
    "Create with placeholder content initially, ie zeros and ones\n",
    "ones, ones_like    #given shape and dtype. ones_like builds another w/ same type and shape\n",
    "zeros, zeros_like  #similar to ones\n",
    "empty, empty_like  #allocate memory, but do not populate with values\n",
    "                   #empty is not the same as zeros, may not always be zero \n",
    "eye, identity      #create a square N x N identity matrix( 1's on diag, 0's elsewhere\n",
    "\n",
    "'''"
   ]
  },
  {
   "cell_type": "code",
   "execution_count": null,
   "metadata": {},
   "outputs": [],
   "source": [
    "oneD_parrot = np.array([6, 3, 17,37])\n",
    "oneD_parrot, oneD_parrot.dtype"
   ]
  },
  {
   "cell_type": "code",
   "execution_count": null,
   "metadata": {},
   "outputs": [],
   "source": [
    "# shape(x, y), where x==number of rows, y==number of columns\n",
    "sir_galahad = np.arange(11,47, 1)**6"
   ]
  },
  {
   "cell_type": "code",
   "execution_count": null,
   "metadata": {},
   "outputs": [],
   "source": [
    "print(sir_galahad)"
   ]
  },
  {
   "cell_type": "code",
   "execution_count": null,
   "metadata": {
    "scrolled": true
   },
   "outputs": [],
   "source": [
    "%%timeit\n",
    "for i in sir_galahad:\n",
    "    print(i**(1/2))"
   ]
  },
  {
   "cell_type": "code",
   "execution_count": null,
   "metadata": {},
   "outputs": [],
   "source": [
    "%%timeit\n",
    "np.sqrt(sir_galahad)\n",
    "print"
   ]
  },
  {
   "cell_type": "code",
   "execution_count": null,
   "metadata": {},
   "outputs": [],
   "source": [
    "parrot_eye = np.eye(6)\n",
    "parrot_eye"
   ]
  },
  {
   "cell_type": "code",
   "execution_count": null,
   "metadata": {},
   "outputs": [],
   "source": [
    "#examples of one dimensional arrays\n",
    "even_llamas = np.arange(4, 20, 2)\n",
    "even_llamas"
   ]
  },
  {
   "cell_type": "code",
   "execution_count": null,
   "metadata": {},
   "outputs": [],
   "source": [
    "odd_llamas = np.arange(5, 27, 2)\n",
    "odd_llamas"
   ]
  },
  {
   "cell_type": "code",
   "execution_count": 221,
   "metadata": {},
   "outputs": [
    {
     "data": {
      "text/plain": [
       "array([ 9, 12, 15, 18, 21, 24, 27, 30, 33, 36, 39, 42, 45, 48, 51, 54, 57,\n",
       "       60, 63, 66, 69, 72])"
      ]
     },
     "execution_count": 221,
     "metadata": {},
     "output_type": "execute_result"
    }
   ],
   "source": [
    "merle_Z_llamaIX = np.arange(9, 73, 3)\n",
    "merle_Z_llamaIX"
   ]
  },
  {
   "cell_type": "code",
   "execution_count": null,
   "metadata": {},
   "outputs": [],
   "source": [
    "floating_1D_sheep = np.arange(0, 5, 0.9)\n",
    "floating_1D_sheep"
   ]
  },
  {
   "cell_type": "code",
   "execution_count": null,
   "metadata": {},
   "outputs": [],
   "source": [
    "#two dimensional arrays\n",
    "floating_2D_sheep = np.array([(1,5,6,2,5), (4,6,6,5,6)])\n",
    "floating_2D_sheep"
   ]
  },
  {
   "cell_type": "code",
   "execution_count": null,
   "metadata": {},
   "outputs": [],
   "source": [
    "#Reshape will create n dimensional array \n",
    "#reshape will only take multiples to the arange number\n",
    "array_nd = np.arange(27).reshape(3,9) \n",
    "array_nd"
   ]
  },
  {
   "cell_type": "code",
   "execution_count": null,
   "metadata": {},
   "outputs": [],
   "source": [
    "data1 = [6, 7.5, 8, 0, 1]\n",
    "arr1 = np.array(data1)\n",
    "arr1"
   ]
  },
  {
   "cell_type": "code",
   "execution_count": null,
   "metadata": {},
   "outputs": [],
   "source": [
    "data2 = [[1, 2, 3, 4], [5, 6, 7, 8]]\n",
    "arr2 = np.array(data2)\n",
    "arr2"
   ]
  },
  {
   "cell_type": "code",
   "execution_count": null,
   "metadata": {},
   "outputs": [],
   "source": [
    "arr2.ndim\n",
    "arr2.shape"
   ]
  },
  {
   "cell_type": "code",
   "execution_count": null,
   "metadata": {},
   "outputs": [],
   "source": [
    "arr1.dtype\n",
    "arr2.dtype"
   ]
  },
  {
   "cell_type": "code",
   "execution_count": null,
   "metadata": {},
   "outputs": [],
   "source": [
    "#np.zeros(10)\n",
    "np.zeros((3, 6))\n",
    "#np.empty((2, 3, 2))"
   ]
  },
  {
   "cell_type": "code",
   "execution_count": null,
   "metadata": {},
   "outputs": [],
   "source": [
    "#semprini = np.zeros_like(parrot_eye)\n",
    "semprini = np.ones_like(parrot_eye)\n",
    "semprini"
   ]
  },
  {
   "cell_type": "code",
   "execution_count": null,
   "metadata": {},
   "outputs": [],
   "source": [
    "np.arange(15)"
   ]
  },
  {
   "cell_type": "markdown",
   "metadata": {},
   "source": [
    "### Data Types for ndarrays"
   ]
  },
  {
   "cell_type": "code",
   "execution_count": null,
   "metadata": {},
   "outputs": [],
   "source": [
    "arrgh_f64_pirate = np.array([1, 2, 3], dtype=np.float64)\n",
    "arrgh_i32_pirate = np.array([1, 2, 3], dtype=np.int32)\n",
    "print(arrgh_f64_pirate.dtype)\n",
    "print(arrgh_i32_pirate.dtype)"
   ]
  },
  {
   "cell_type": "code",
   "execution_count": null,
   "metadata": {},
   "outputs": [],
   "source": [
    "arr = np.array([1, 2, 3, 4, 5])\n",
    "print(arr.dtype)\n",
    "float_arr = arr.astype(np.float64)\n",
    "print(float_arr.dtype)"
   ]
  },
  {
   "cell_type": "code",
   "execution_count": null,
   "metadata": {},
   "outputs": [],
   "source": [
    "arr = np.array([3.7, -1.2, -2.6, 0.5, 12.9, 10.1])\n",
    "arr\n",
    "arr.astype(np.int32)"
   ]
  },
  {
   "cell_type": "code",
   "execution_count": null,
   "metadata": {},
   "outputs": [],
   "source": [
    "numeric_strings = np.array(['1.25', '-9.6', '42'], dtype=np.string_)\n",
    "numeric_strings.astype(float)"
   ]
  },
  {
   "cell_type": "code",
   "execution_count": null,
   "metadata": {},
   "outputs": [],
   "source": [
    "int_array = np.arange(10)\n",
    "calibers = np.array([.22, .270, .357, .380, .44, .50], dtype=np.float64)\n",
    "int_array.astype(calibers.dtype)"
   ]
  },
  {
   "cell_type": "code",
   "execution_count": null,
   "metadata": {},
   "outputs": [],
   "source": [
    "empty_uint32 = np.empty(8, dtype='u4')\n",
    "empty_uint32"
   ]
  },
  {
   "cell_type": "markdown",
   "metadata": {},
   "source": [
    "### Arithmetic with NumPy Arrays"
   ]
  },
  {
   "cell_type": "code",
   "execution_count": null,
   "metadata": {},
   "outputs": [],
   "source": [
    "arr = np.array([[1., 2., 3.], [4., 5., 6.]])\n",
    "arr\n",
    "arr * arr\n",
    "arr - arr"
   ]
  },
  {
   "cell_type": "code",
   "execution_count": null,
   "metadata": {},
   "outputs": [],
   "source": [
    "1 / arr\n",
    "arr ** 0.5"
   ]
  },
  {
   "cell_type": "code",
   "execution_count": 225,
   "metadata": {},
   "outputs": [
    {
     "name": "stdout",
     "output_type": "stream",
     "text": [
      "[[ 0.  4.  1.]\n",
      " [ 7.  2. 12.]]\n"
     ]
    }
   ],
   "source": [
    "arr2 = np.array([[0., 4., 1.], [7., 2., 12.]])\n",
    "print(arr2)\n",
    "#arr2 > arr"
   ]
  },
  {
   "cell_type": "markdown",
   "metadata": {},
   "source": [
    "### Basic Indexing and Slicing"
   ]
  },
  {
   "cell_type": "code",
   "execution_count": null,
   "metadata": {},
   "outputs": [],
   "source": [
    "arr = np.arange(10)\n",
    "arr[5]\n",
    "arr[5:8]\n",
    "arr[5:8] = 12\n",
    "arr"
   ]
  },
  {
   "cell_type": "code",
   "execution_count": null,
   "metadata": {},
   "outputs": [],
   "source": [
    "arr_slice = arr[5:8]\n",
    "arr_slice"
   ]
  },
  {
   "cell_type": "code",
   "execution_count": null,
   "metadata": {},
   "outputs": [],
   "source": [
    "arr_slice[1] = 12345\n",
    "arr"
   ]
  },
  {
   "cell_type": "code",
   "execution_count": null,
   "metadata": {},
   "outputs": [],
   "source": [
    "arr_slice[:] = 64\n",
    "arr"
   ]
  },
  {
   "cell_type": "code",
   "execution_count": null,
   "metadata": {},
   "outputs": [],
   "source": [
    "arr2d = np.array([[1, 2, 3], [4, 5, 6], [7, 8, 9]])\n",
    "arr2d[2]"
   ]
  },
  {
   "cell_type": "code",
   "execution_count": null,
   "metadata": {},
   "outputs": [],
   "source": [
    "arr2d[0][2]\n",
    "arr2d[0, 2]"
   ]
  },
  {
   "cell_type": "code",
   "execution_count": null,
   "metadata": {},
   "outputs": [],
   "source": [
    "arr3d = np.array([[[1, 2, 3], [4, 5, 6]], [[7, 8, 9], [10, 11, 12]]])\n",
    "arr3d"
   ]
  },
  {
   "cell_type": "code",
   "execution_count": null,
   "metadata": {},
   "outputs": [],
   "source": [
    "arr3d[0]"
   ]
  },
  {
   "cell_type": "code",
   "execution_count": null,
   "metadata": {},
   "outputs": [],
   "source": [
    "old_values = arr3d[0].copy()\n",
    "arr3d[0] = 42\n",
    "arr3d\n",
    "arr3d[0] = old_values\n",
    "arr3d"
   ]
  },
  {
   "cell_type": "code",
   "execution_count": null,
   "metadata": {},
   "outputs": [],
   "source": [
    "arr3d[1, 0]"
   ]
  },
  {
   "cell_type": "code",
   "execution_count": null,
   "metadata": {},
   "outputs": [],
   "source": [
    "x = arr3d[1]\n",
    "x\n",
    "x[0]"
   ]
  },
  {
   "cell_type": "markdown",
   "metadata": {},
   "source": [
    "#### Indexing with slices"
   ]
  },
  {
   "cell_type": "code",
   "execution_count": null,
   "metadata": {},
   "outputs": [],
   "source": [
    "arr\n",
    "arr[1:6]"
   ]
  },
  {
   "cell_type": "code",
   "execution_count": null,
   "metadata": {},
   "outputs": [],
   "source": [
    "arr2d\n",
    "arr2d[:2]"
   ]
  },
  {
   "cell_type": "code",
   "execution_count": null,
   "metadata": {},
   "outputs": [],
   "source": [
    "arr2d[:2, 1:]"
   ]
  },
  {
   "cell_type": "code",
   "execution_count": null,
   "metadata": {},
   "outputs": [],
   "source": [
    "arr2d[1, :2]"
   ]
  },
  {
   "cell_type": "code",
   "execution_count": null,
   "metadata": {},
   "outputs": [],
   "source": [
    "arr2d[:2, 2]"
   ]
  },
  {
   "cell_type": "code",
   "execution_count": null,
   "metadata": {},
   "outputs": [],
   "source": [
    "arr2d[:, :1]"
   ]
  },
  {
   "cell_type": "code",
   "execution_count": null,
   "metadata": {},
   "outputs": [],
   "source": [
    "arr2d[:2, 1:] = 0\n",
    "arr2d"
   ]
  },
  {
   "cell_type": "markdown",
   "metadata": {},
   "source": [
    "### Boolean Indexing"
   ]
  },
  {
   "cell_type": "code",
   "execution_count": null,
   "metadata": {},
   "outputs": [],
   "source": [
    "names = np.array(['Terry', 'Michael', 'Eric', 'Terry', 'Idle', 'John', 'Graham'])\n",
    "data = np.random.randn(7, 4)\n",
    "names\n",
    "data"
   ]
  },
  {
   "cell_type": "code",
   "execution_count": null,
   "metadata": {},
   "outputs": [],
   "source": [
    "names == 'Terry'"
   ]
  },
  {
   "cell_type": "code",
   "execution_count": null,
   "metadata": {},
   "outputs": [],
   "source": [
    "data[names == 'Terry']"
   ]
  },
  {
   "cell_type": "code",
   "execution_count": null,
   "metadata": {},
   "outputs": [],
   "source": [
    "data[names == 'Terry', 2:]\n",
    "data[names == 'Terry', 3]"
   ]
  },
  {
   "cell_type": "code",
   "execution_count": null,
   "metadata": {},
   "outputs": [],
   "source": [
    "names != 'Terry'\n",
    "data[~(names == 'Terry')]"
   ]
  },
  {
   "cell_type": "code",
   "execution_count": null,
   "metadata": {},
   "outputs": [],
   "source": [
    "cond = names == 'Terry'\n",
    "data[~cond]"
   ]
  },
  {
   "cell_type": "code",
   "execution_count": null,
   "metadata": {},
   "outputs": [],
   "source": [
    "mask = (names == 'Terry') | (names == 'Graham')\n",
    "mask\n",
    "data[mask]"
   ]
  },
  {
   "cell_type": "code",
   "execution_count": null,
   "metadata": {},
   "outputs": [],
   "source": [
    "data[data < 0] = 0\n",
    "data"
   ]
  },
  {
   "cell_type": "code",
   "execution_count": null,
   "metadata": {},
   "outputs": [],
   "source": [
    "data[names != 'Idle'] = 7\n",
    "data"
   ]
  },
  {
   "cell_type": "markdown",
   "metadata": {},
   "source": [
    "### Fancy Indexing"
   ]
  },
  {
   "cell_type": "code",
   "execution_count": null,
   "metadata": {},
   "outputs": [],
   "source": [
    "arr = np.empty((8, 4))\n",
    "for i in range(8):\n",
    "    arr[i] = i\n",
    "arr"
   ]
  },
  {
   "cell_type": "code",
   "execution_count": null,
   "metadata": {},
   "outputs": [],
   "source": [
    "arr[[4, 3, 0, 6]]"
   ]
  },
  {
   "cell_type": "code",
   "execution_count": null,
   "metadata": {},
   "outputs": [],
   "source": [
    "arr[[-3, -5, -7]]"
   ]
  },
  {
   "cell_type": "code",
   "execution_count": null,
   "metadata": {},
   "outputs": [],
   "source": [
    "arr = np.arange(32).reshape((8, 4))\n",
    "arr\n",
    "arr[[1, 5, 7, 2], [0, 3, 1, 2]]"
   ]
  },
  {
   "cell_type": "code",
   "execution_count": null,
   "metadata": {},
   "outputs": [],
   "source": [
    "arr[[1, 5, 7, 2]][:, [0, 3, 1, 2]]"
   ]
  },
  {
   "cell_type": "markdown",
   "metadata": {},
   "source": [
    "### Transposing Arrays and Swapping Axes"
   ]
  },
  {
   "cell_type": "code",
   "execution_count": null,
   "metadata": {},
   "outputs": [],
   "source": [
    "arr = np.arange(15).reshape((3, 5))\n",
    "arr\n",
    "arr.T"
   ]
  },
  {
   "cell_type": "code",
   "execution_count": null,
   "metadata": {},
   "outputs": [],
   "source": [
    "arr = np.random.randn(6, 3)\n",
    "arr\n",
    "np.dot(arr.T, arr)"
   ]
  },
  {
   "cell_type": "code",
   "execution_count": null,
   "metadata": {},
   "outputs": [],
   "source": [
    "arr = np.arange(16).reshape((2, 2, 4))\n",
    "arr\n",
    "arr.transpose((1, 0, 2))"
   ]
  },
  {
   "cell_type": "code",
   "execution_count": null,
   "metadata": {},
   "outputs": [],
   "source": [
    "arr\n",
    "arr.swapaxes(1, 2)"
   ]
  },
  {
   "cell_type": "markdown",
   "metadata": {},
   "source": [
    "## Universal Functions: Fast Element-Wise Array Functions\n",
    "ufuncs\n",
    "abs, fabs\n",
    "sqrt\n",
    "square\n",
    "exp\n",
    "log, log10\n",
    "log2, log1p\n",
    "sign\n",
    "ceil\n",
    "floor\n",
    "rint\n",
    "modf\n",
    "isnan\n",
    "isinfinate, isinf\n",
    "\n",
    "cos, cosh            #regular \n",
    "sin, sinh            #hyperbolic\n",
    "sin, sinh            #trigonometric functions\n",
    "tan, tanh\n",
    "\n",
    "arccos, arccosh     #inverse\n",
    "arcsin, arcsinh     #trigonometric functions\n",
    "arctan, arctanh\n",
    "\n",
    "logical_not      #compute truth value of not, equivalent to ~arr\n",
    "logical_and      #&\n",
    "logical_or       #|\n",
    "logical_xor      #^\n"
   ]
  },
  {
   "cell_type": "code",
   "execution_count": 3,
   "metadata": {},
   "outputs": [
    {
     "name": "stdout",
     "output_type": "stream",
     "text": [
      "[ 3  6  9 12 15 18 21 24]\n",
      "[1.73205081 2.44948974 3.         3.46410162 3.87298335 4.24264069\n",
      " 4.58257569 4.89897949]\n",
      "[2.00855369e+01 4.03428793e+02 8.10308393e+03 1.62754791e+05\n",
      " 3.26901737e+06 6.56599691e+07 1.31881573e+09 2.64891221e+10]\n"
     ]
    }
   ],
   "source": [
    "import numpy as np\n",
    "sqrt_exp_test = np.arange(3, 27, 3)\n",
    "print(sqrt_exp_test)\n",
    "print(np.sqrt(sqrt_exp_test))\n",
    "print(np.exp(sqrt_exp_test))"
   ]
  },
  {
   "cell_type": "code",
   "execution_count": 226,
   "metadata": {},
   "outputs": [
    {
     "name": "stdout",
     "output_type": "stream",
     "text": [
      "[ 0.6746511   0.12898431  0.84318012 -0.17741141  1.60040489  1.0487574\n",
      "  0.76745325 -0.47799177]\n",
      "[-0.66633994 -0.04902197 -0.8765229  -0.37996791 -1.92748029 -1.45762443\n",
      " -0.46253994  0.52840505]\n",
      "[ 0.6746511   0.12898431  0.84318012 -0.17741141  1.60040489  1.0487574\n",
      "  0.76745325  0.52840505]\n"
     ]
    }
   ],
   "source": [
    "x = np.random.randn(8)\n",
    "y = np.random.randn(8)\n",
    "print(x)\n",
    "print(y)\n",
    "print(np.maximum(x, y))"
   ]
  },
  {
   "cell_type": "code",
   "execution_count": 227,
   "metadata": {},
   "outputs": [
    {
     "name": "stdout",
     "output_type": "stream",
     "text": [
      "----remainder---\n",
      "[-0.09002173  0.47024186  0.00836127  0.95441712  0.99846494  0.84182655\n",
      " -0.99692794]\n",
      "----whole part-----\n",
      "[ -2.   2.   3.   6.   3.  10. -14.]\n"
     ]
    }
   ],
   "source": [
    "arr = np.random.randn(7) * 5\n",
    "remainder, whole_part = np.modf(arr)\n",
    "print('----remainder---')\n",
    "print(remainder)\n",
    "print('----whole part-----')\n",
    "print(whole_part)"
   ]
  },
  {
   "cell_type": "code",
   "execution_count": 229,
   "metadata": {},
   "outputs": [
    {
     "name": "stdout",
     "output_type": "stream",
     "text": [
      "[       nan 1.25367472 1.31699006 1.62392207 1.41407786 1.81457789\n",
      "        nan]\n",
      "[       nan 1.25367472 1.31699006 1.62392207 1.41407786 1.81457789\n",
      "        nan]\n"
     ]
    }
   ],
   "source": [
    "enchanter = np.sqrt(arr)\n",
    "ralph_the_llama = np.sqrt(arr, arr)\n",
    "print(enchanter)\n",
    "print(ralph_the_llama)\n"
   ]
  },
  {
   "cell_type": "markdown",
   "metadata": {},
   "source": [
    "## Array-Oriented Programming with Arrays"
   ]
  },
  {
   "cell_type": "code",
   "execution_count": 5,
   "metadata": {},
   "outputs": [],
   "source": [
    "import numpy as np\n",
    "points = np.arange(-6, 6, 0.01) # 1200 equally spaced points\n",
    "xsir, yrobin = np.meshgrid(points, points)"
   ]
  },
  {
   "cell_type": "code",
   "execution_count": 7,
   "metadata": {},
   "outputs": [
    {
     "name": "stdout",
     "output_type": "stream",
     "text": [
      "1200\n",
      "You win a lifetime supply of Whizzo Butter!!\n"
     ]
    }
   ],
   "source": [
    "print(len(points))\n",
    "print('You win a lifetime supply of Whizzo Butter!!')      "
   ]
  },
  {
   "cell_type": "code",
   "execution_count": 202,
   "metadata": {
    "scrolled": false
   },
   "outputs": [
    {
     "name": "stdout",
     "output_type": "stream",
     "text": [
      "[[8.48528137 8.47821326 8.47115104 ... 8.46409475 8.47115104 8.47821326]\n",
      " [8.47821326 8.47113924 8.46407112 ... 8.45700893 8.46407112 8.47113924]\n",
      " [8.47115104 8.46407112 8.4569971  ... 8.44992899 8.4569971  8.46407112]\n",
      " ...\n",
      " [8.46409475 8.45700893 8.44992899 ... 8.44285497 8.44992899 8.45700893]\n",
      " [8.47115104 8.46407112 8.4569971  ... 8.44992899 8.4569971  8.46407112]\n",
      " [8.47821326 8.47113924 8.46407112 ... 8.45700893 8.46407112 8.47113924]]\n"
     ]
    }
   ],
   "source": [
    "parrotz = np.sqrt(xsir ** 2 + yrobin ** 2)\n",
    "print(parrotz)"
   ]
  },
  {
   "cell_type": "code",
   "execution_count": 203,
   "metadata": {},
   "outputs": [
    {
     "data": {
      "text/plain": [
       "Text(0.5,1,'Image plot of $\\\\sqrt{sir^2 + robin^2}$ for a grid of Parrots')"
      ]
     },
     "execution_count": 203,
     "metadata": {},
     "output_type": "execute_result"
    },
    {
     "data": {
      "image/png": "[encoded data removed]",
      "text/plain": [
       "<Figure size 432x288 with 2 Axes>"
      ]
     },
     "metadata": {},
     "output_type": "display_data"
    }
   ],
   "source": [
    "import matplotlib.pyplot as plt\n",
    "plt.imshow(parrotz, cmap=plt.cm.gray); plt.colorbar()\n",
    "plt.title(\"Image plot of $\\sqrt{sir^2 + robin^2}$ for a grid of Parrots\")"
   ]
  },
  {
   "cell_type": "code",
   "execution_count": null,
   "metadata": {},
   "outputs": [],
   "source": [
    "plt.draw()"
   ]
  },
  {
   "cell_type": "code",
   "execution_count": null,
   "metadata": {},
   "outputs": [],
   "source": [
    "plt.close('all')"
   ]
  },
  {
   "cell_type": "markdown",
   "metadata": {},
   "source": [
    "### Expressing Conditional Logic as Array Operations"
   ]
  },
  {
   "cell_type": "code",
   "execution_count": null,
   "metadata": {},
   "outputs": [],
   "source": [
    "%time\n",
    "xarr = np.array([1.1, 1.2, 1.3, 1.4, 1.5])\n",
    "yarr = np.array([2.1, 2.2, 2.3, 2.4, 2.5])\n",
    "cond = np.array([True, False, True, True, False])"
   ]
  },
  {
   "cell_type": "code",
   "execution_count": null,
   "metadata": {},
   "outputs": [],
   "source": [
    "%time\n",
    "result = [(x if c else y)\n",
    "          for x, y, c in zip(xarr, yarr, cond)]\n",
    "result"
   ]
  },
  {
   "cell_type": "code",
   "execution_count": null,
   "metadata": {},
   "outputs": [],
   "source": [
    "result = np.where(cond, xarr, yarr)\n",
    "result"
   ]
  },
  {
   "cell_type": "code",
   "execution_count": null,
   "metadata": {},
   "outputs": [],
   "source": [
    "arr = np.random.randn(4, 4)\n",
    "arr\n",
    "arr > 0\n",
    "np.where(arr > 0, 2, -2)"
   ]
  },
  {
   "cell_type": "code",
   "execution_count": null,
   "metadata": {},
   "outputs": [],
   "source": [
    "np.where(arr > 0, 2, arr) # set only positive values to 2"
   ]
  },
  {
   "cell_type": "code",
   "execution_count": null,
   "metadata": {},
   "outputs": [],
   "source": [
    "def addsubtract(coconuts,parrots):\n",
    "    \"Return coconuts-parrots if coconuts > parrots, otherwise return a + b\"\n",
    "    if coconuts > parrots:\n",
    "        return coconuts - parrots\n",
    "    else:\n",
    "        return coconuts + parrots"
   ]
  },
  {
   "cell_type": "code",
   "execution_count": null,
   "metadata": {},
   "outputs": [],
   "source": [
    "addsubtract(7,57)"
   ]
  },
  {
   "cell_type": "code",
   "execution_count": null,
   "metadata": {},
   "outputs": [],
   "source": [
    "def multi_div(coconuts, parrots):\n",
    "    if coconuts > parrots:\n",
    "        return coconuts * parrots\n",
    "    else:\n",
    "        return coconuts / parrots"
   ]
  },
  {
   "cell_type": "code",
   "execution_count": null,
   "metadata": {},
   "outputs": [],
   "source": [
    "multi_div(7,57)"
   ]
  },
  {
   "cell_type": "markdown",
   "metadata": {},
   "source": [
    "###Vectorization = replacing explicit loops as consise array expressions\n",
    "vectorize is a class, takes regular Python function that accepts scalars\n",
    "    returns scalars into a 'vectorized-function' \n",
    "    uses same broadcasting rules\n",
    "e.g. use the above functions with arrays"
   ]
  },
  {
   "cell_type": "code",
   "execution_count": null,
   "metadata": {},
   "outputs": [],
   "source": [
    "vec_addsubtract = np.vectorize(addsubtract)"
   ]
  },
  {
   "cell_type": "code",
   "execution_count": null,
   "metadata": {},
   "outputs": [],
   "source": [
    "vec_addsubtract([0,3,6,69],[7,15,17,59])"
   ]
  },
  {
   "cell_type": "code",
   "execution_count": null,
   "metadata": {},
   "outputs": [],
   "source": [
    "vec_multi_div = np.vectorize(multi_div)"
   ]
  },
  {
   "cell_type": "code",
   "execution_count": null,
   "metadata": {},
   "outputs": [],
   "source": [
    "vec_multi_div([0,3,6,69],[3,5,7,9])"
   ]
  },
  {
   "cell_type": "markdown",
   "metadata": {},
   "source": [
    "## Mathematical and Statistical Methods"
   ]
  },
  {
   "cell_type": "code",
   "execution_count": null,
   "metadata": {},
   "outputs": [],
   "source": [
    "arr = np.random.randn(5, 4)\n",
    "#arr\n",
    "#arr.mean()\n",
    "np.mean(arr)\n",
    "#arr.sum()"
   ]
  },
  {
   "cell_type": "code",
   "execution_count": null,
   "metadata": {},
   "outputs": [],
   "source": [
    "arr.mean(axis=1)\n",
    "arr.sum(axis=0)"
   ]
  },
  {
   "cell_type": "code",
   "execution_count": null,
   "metadata": {},
   "outputs": [],
   "source": [
    "arr = np.array([0, 1, 2, 3, 4, 5, 6, 7])\n",
    "arr.cumsum()"
   ]
  },
  {
   "cell_type": "code",
   "execution_count": null,
   "metadata": {},
   "outputs": [],
   "source": [
    "arr = np.array([[4, 8, 12], [2, 4, 6], [10, 17, 18]])\n",
    "#arr\n",
    "#arr.cumsum(axis=0)\n",
    "arr.cumprod(axis=1)"
   ]
  },
  {
   "cell_type": "markdown",
   "metadata": {},
   "source": [
    "### Methods for Boolean Arrays"
   ]
  },
  {
   "cell_type": "code",
   "execution_count": null,
   "metadata": {},
   "outputs": [],
   "source": [
    "arr = np.random.randn(100)\n",
    "(arr > 0).sum() # Number of positive values"
   ]
  },
  {
   "cell_type": "code",
   "execution_count": null,
   "metadata": {},
   "outputs": [],
   "source": [
    "bools = np.array([False, False, True, False])\n",
    "bools.any()\n",
    "bools.all()"
   ]
  },
  {
   "cell_type": "markdown",
   "metadata": {},
   "source": [
    "### Sorting"
   ]
  },
  {
   "cell_type": "code",
   "execution_count": null,
   "metadata": {},
   "outputs": [],
   "source": [
    "arr = np.random.randn(6)\n",
    "arr\n",
    "arr.sort()\n",
    "arr"
   ]
  },
  {
   "cell_type": "code",
   "execution_count": null,
   "metadata": {},
   "outputs": [],
   "source": [
    "arr = np.random.randn(5, 3)\n",
    "arr\n",
    "arr.sort(1)\n",
    "arr"
   ]
  },
  {
   "cell_type": "code",
   "execution_count": null,
   "metadata": {},
   "outputs": [],
   "source": [
    "large_arr = np.random.randn(1000)\n",
    "large_arr.sort()\n",
    "large_arr[int(0.05 * len(large_arr))] # 5% quantile"
   ]
  },
  {
   "cell_type": "markdown",
   "metadata": {},
   "source": [
    "### Unique and Other Set Logic"
   ]
  },
  {
   "cell_type": "code",
   "execution_count": null,
   "metadata": {},
   "outputs": [],
   "source": [
    "lads = np.array(['Terry', 'Michael', 'Eric', 'Terry', 'Idle', 'John', 'Graham'])\n",
    "print(np.unique(lads))"
   ]
  },
  {
   "cell_type": "code",
   "execution_count": null,
   "metadata": {},
   "outputs": [],
   "source": [
    "llama_heights = np.array([3, 3, 3, 2, 98, 2, 1, 1, 4, 4])\n",
    "np.unique(llama_heights)"
   ]
  },
  {
   "cell_type": "code",
   "execution_count": null,
   "metadata": {},
   "outputs": [],
   "source": [
    "pass"
   ]
  },
  {
   "cell_type": "code",
   "execution_count": null,
   "metadata": {},
   "outputs": [],
   "source": [
    "sorted(set(lads))"
   ]
  },
  {
   "cell_type": "code",
   "execution_count": null,
   "metadata": {},
   "outputs": [],
   "source": [
    "pass"
   ]
  },
  {
   "cell_type": "code",
   "execution_count": null,
   "metadata": {},
   "outputs": [],
   "source": [
    "values = np.array([6, 0, 0, 3, 2, 5, 6])\n",
    "np.in1d(values, [2, 3, 6])"
   ]
  },
  {
   "cell_type": "markdown",
   "metadata": {},
   "source": [
    "## Linear Algebra\n",
    "multiplying two 2-dimensional arrays is an element wise product\n",
    "for matrix dot products use array method and function dot\n",
    "diag   returns the diagonal elements of a square matrix as a 1D arry\n",
    "       or converts a 1D array into a square matrix with zeros\n",
    "dot    matrix multiplication\n",
    "trace  compute the sum of the diagonal elements\n",
    "det    compute the matrix determinant\n",
    "eig    eigenvalues and eigenvectors of a square matrix\n",
    "inv    inverse\n",
    "qr     QR decomposition\n",
    "svd    singular value decomposition\n",
    "solve  linear system Ax = b for x, where A is a square matrix\n",
    "lstsq  least squares solution for Ax = b"
   ]
  },
  {
   "cell_type": "code",
   "execution_count": null,
   "metadata": {},
   "outputs": [],
   "source": [
    "x = np.array([[1., 2., 3.], [4., 5., 6.]])\n",
    "y = np.array([[6., 23.], [-1, 7], [8, 9]])"
   ]
  },
  {
   "cell_type": "code",
   "execution_count": null,
   "metadata": {},
   "outputs": [],
   "source": [
    "x"
   ]
  },
  {
   "cell_type": "code",
   "execution_count": null,
   "metadata": {},
   "outputs": [],
   "source": [
    "y"
   ]
  },
  {
   "cell_type": "code",
   "execution_count": null,
   "metadata": {},
   "outputs": [],
   "source": [
    "x.dot(y)"
   ]
  },
  {
   "cell_type": "code",
   "execution_count": null,
   "metadata": {},
   "outputs": [],
   "source": [
    "#a 2D * 1D returns a 1D\n",
    "np.dot(x, np.ones(3))"
   ]
  },
  {
   "cell_type": "code",
   "execution_count": null,
   "metadata": {},
   "outputs": [],
   "source": [
    "#matrix multiplication using an infix operator\n",
    "x @ np.ones(3)"
   ]
  },
  {
   "cell_type": "code",
   "execution_count": 236,
   "metadata": {},
   "outputs": [
    {
     "data": {
      "text/plain": [
       "array([[-5.58224930e+00,  4.52312693e+00,  1.66060120e+00,\n",
       "        -3.03346387e-01, -1.75028430e+00],\n",
       "       [ 0.00000000e+00, -6.72562634e+00,  3.16310868e+00,\n",
       "        -1.09425054e+00,  8.89574670e+00],\n",
       "       [ 0.00000000e+00,  0.00000000e+00, -1.24982731e+01,\n",
       "        -3.96086848e+00, -3.66750089e+00],\n",
       "       [ 0.00000000e+00,  0.00000000e+00,  0.00000000e+00,\n",
       "        -4.64015015e-01,  6.37236334e-01],\n",
       "       [ 0.00000000e+00,  0.00000000e+00,  0.00000000e+00,\n",
       "         0.00000000e+00,  2.03456883e-03]])"
      ]
     },
     "execution_count": 236,
     "metadata": {},
     "output_type": "execute_result"
    }
   ],
   "source": [
    "#matrix decompositions\n",
    "#inverse \n",
    "from numpy.linalg import inv, qr\n",
    "X = np.random.randn(5, 5)\n",
    "mat = X.T.dot(X)\n",
    "inv(mat)\n",
    "mat.dot(inv(mat))\n",
    "q, r = qr(mat)\n",
    "r"
   ]
  },
  {
   "cell_type": "code",
   "execution_count": 240,
   "metadata": {},
   "outputs": [
    {
     "data": {
      "text/plain": [
       "Text(0.5,1,'Image of Typical Bolivian Llama Eye Spots')"
      ]
     },
     "execution_count": 240,
     "metadata": {},
     "output_type": "execute_result"
    },
    {
     "data": {
      "image/png": "[encoded data removed]",
      "text/plain": [
       "<Figure size 432x288 with 2 Axes>"
      ]
     },
     "metadata": {},
     "output_type": "display_data"
    }
   ],
   "source": [
    "import matplotlib.pyplot as plt\n",
    "plt.imshow(r, cmap=plt.cm.gray); plt.colorbar()\n",
    "plt.title(\"Image of Typical Bolivian Llama Eye Spots\")"
   ]
  },
  {
   "cell_type": "markdown",
   "metadata": {},
   "source": [
    "## Pseudorandom Number Generation\n",
    "numpy.random supplements the built-in Python random\n",
    "very large coconuts are generated  faster than built-in\n",
    "pseudorandom because they are generated with a seed\n",
    "list of numpy.random functions\n",
    "\n",
    "seed          #seed the random number generator\n",
    "RandomState([seed]) Container for the Mersenne Twister pseudo-random number generator.\n",
    "get_state\n",
    "\n",
    "permutation   #return a random permutation of a sequence, or purmutted range\n",
    "shuffle       #Randomly permute a seq. in place\n",
    "rand          #samples from a uniform distribution\n",
    "randint       #from a given low to high range\n",
    "randn         #samples from normal dist w/ mean 0 and std 1\n",
    "binomial      #samples from a binomial distribution\n",
    "normal        #Gaussian distribution, standard normal dist.\n",
    "beta          #\n",
    "chisquare(df[, size])  #\n",
    "gamma         #\n",
    "uniform       #samples from a uniform [0,1] distribution\n",
    "\n",
    "\n",
    "link_scipy_random = 'https://docs.scipy.org/doc/numpy/reference/routines.random.html'"
   ]
  },
  {
   "cell_type": "code",
   "execution_count": 189,
   "metadata": {},
   "outputs": [
    {
     "data": {
      "text/plain": [
       "array([[-1.55068228,  0.19706171,  1.50387133, -0.75691152],\n",
       "       [-0.07422911, -0.66712561,  1.80182781,  0.43170831],\n",
       "       [ 0.9186913 , -0.14160552, -0.44955935, -0.4683783 ],\n",
       "       [-1.89058195, -1.35310026,  0.48975579, -0.07340356]])"
      ]
     },
     "execution_count": 189,
     "metadata": {},
     "output_type": "execute_result"
    }
   ],
   "source": [
    "c0c0nut5 = np.random.normal(size=(4, 4))\n",
    "c0c0nut5"
   ]
  },
  {
   "cell_type": "code",
   "execution_count": 190,
   "metadata": {},
   "outputs": [
    {
     "name": "stdout",
     "output_type": "stream",
     "text": [
      "666 ms ± 6.17 ms per loop (mean ± std. dev. of 7 runs, 1 loop each)\n",
      "38.2 ms ± 104 µs per loop (mean ± std. dev. of 7 runs, 10 loops each)\n"
     ]
    }
   ],
   "source": [
    "from random import normalvariate\n",
    "N = 1000000\n",
    "%timeit c0c0nut5 = [normalvariate(0, 1) for _ in range(N)]\n",
    "%timeit np.random.normal(size=N)"
   ]
  },
  {
   "cell_type": "code",
   "execution_count": 191,
   "metadata": {},
   "outputs": [],
   "source": [
    "np.random.seed(666666)"
   ]
  },
  {
   "cell_type": "code",
   "execution_count": 193,
   "metadata": {},
   "outputs": [
    {
     "data": {
      "text/plain": [
       "array([ 0.38000969, -1.38242623, -1.40730889,  0.03722192,  1.48339349,\n",
       "        1.19394041, -0.01108357,  0.06418066, -0.86352189, -1.44184785])"
      ]
     },
     "execution_count": 193,
     "metadata": {},
     "output_type": "execute_result"
    }
   ],
   "source": [
    "#functions using numpy.random use a global random seed, \n",
    "#to isolate the generator:\n",
    "rng = np.random.RandomState(1266634)\n",
    "rng.randn(10)"
   ]
  },
  {
   "cell_type": "code",
   "execution_count": 195,
   "metadata": {
    "scrolled": true
   },
   "outputs": [
    {
     "name": "stdout",
     "output_type": "stream",
     "text": [
      "[-0.12668056 -0.04806824 -0.09257548 -0.07628    -0.16261416  0.13489197\n",
      "  0.02476075  0.05790954 -0.08377964 -0.1484433  -0.08887594 -0.01802928\n",
      "  0.04852975 -0.12401214  0.02466698  0.00060624  0.18828534  0.08019579\n",
      "  0.02648105  0.07387347  0.00871843 -0.09967008  0.16581251  0.01263542\n",
      "  0.08057629 -0.04781288 -0.06102691 -0.07640638  0.06480612  0.08763662\n",
      " -0.0108626   0.18881549  0.08287495 -0.06885307 -0.00297734 -0.03678557\n",
      " -0.1821602   0.02535954 -0.04078893 -0.03087765  0.03296545 -0.03129339\n",
      " -0.0087694  -0.08800792 -0.04197381  0.03056668 -0.06226831 -0.14236986\n",
      " -0.17781766 -0.15725515 -0.04047852  0.10536908 -0.05931928  0.06083911\n",
      " -0.00373885 -0.12057656  0.11568529  0.04074973 -0.07173643  0.16911744\n",
      " -0.00491665 -0.08723609 -0.02880393 -0.03750586 -0.00258972 -0.02595604\n",
      " -0.13384146 -0.00749437 -0.07413622  0.10676218  0.11922197  0.20209156\n",
      "  0.03961013  0.0665083  -0.0274887   0.03738328 -0.01055114  0.19283161\n",
      "  0.05705471 -0.11365669 -0.01979033  0.19953113 -0.11675751  0.01868378\n",
      " -0.07273062 -0.06918207  0.12101805  0.0920727  -0.05832095  0.00959976\n",
      "  0.00380808 -0.12781367 -0.06176148  0.06165917  0.06161628  0.01646327\n",
      "  0.06660919  0.08905525 -0.02671073  0.14700658  0.00195119  0.05402605\n",
      " -0.16852852 -0.0407879   0.069211    0.18098089  0.19983657  0.04145193\n",
      "  0.09947383 -0.06873458  0.0716683  -0.01438873  0.05158704  0.06117239\n",
      "  0.16104885 -0.09844003 -0.05915771  0.01128451  0.07572669 -0.00379623\n",
      " -0.16910111  0.11386456 -0.19930335 -0.10397848  0.05553373  0.06683672\n",
      "  0.25981541 -0.18422219 -0.0961657   0.12451624 -0.02570675  0.12285363\n",
      "  0.0228439  -0.00639032 -0.0096489  -0.12254625  0.09192561  0.0989627\n",
      "  0.04421799 -0.12129262 -0.03725866  0.10012197 -0.02638081  0.04651266\n",
      "  0.09570379  0.02116003 -0.03489301  0.01835666  0.05696117 -0.0534702\n",
      "  0.12586384 -0.04621835 -0.01532334  0.04546592 -0.11229584  0.12116399\n",
      " -0.08093141 -0.08077735 -0.12214087 -0.10292938 -0.08866119 -0.06808733\n",
      " -0.23012822  0.01893953  0.12812115 -0.07989686 -0.04980673  0.04499097\n",
      "  0.00461355  0.01404924 -0.07523469 -0.02016513  0.11566233  0.03908511\n",
      " -0.02195913 -0.0077851  -0.19654582  0.08472035  0.11979842  0.15802211\n",
      "  0.05331396 -0.02058229  0.06229199 -0.011828    0.06467424 -0.04589454\n",
      " -0.24966606  0.00830616  0.04263574  0.07206049  0.10948454 -0.11894336\n",
      "  0.05049928  0.12616994 -0.02936178 -0.18453643  0.22835368  0.02653649\n",
      " -0.16270243 -0.22127684 -0.13723492  0.01677254 -0.07915869 -0.01287387\n",
      " -0.09936732  0.04271923  0.01862983  0.00060138 -0.10208076  0.04404461\n",
      " -0.06288318  0.03147493  0.0119784  -0.12614753 -0.11734691  0.08371398\n",
      "  0.10211077  0.02658078  0.06385445  0.0119149  -0.08990366 -0.07284401\n",
      "  0.10623673  0.00305867 -0.04572372 -0.07893618  0.09782874  0.06633646\n",
      " -0.10780126 -0.07667565 -0.1089841  -0.09459538  0.05779437 -0.07260787\n",
      "  0.04114264  0.05130734  0.163871    0.03824089 -0.07339794 -0.07928384\n",
      " -0.16306462 -0.259752   -0.06952599 -0.10596116 -0.04051961 -0.03222602\n",
      " -0.05964343  0.11588092  0.03295257 -0.15951492 -0.10176065 -0.04627116\n",
      " -0.01868314  0.00411973  0.16995142 -0.14185794  0.01165675  0.0562114\n",
      "  0.07387211 -0.01375227 -0.15896491 -0.11189616  0.00052703 -0.09888879\n",
      " -0.03166897 -0.15592876 -0.22241381  0.07803917 -0.00929455  0.13859403\n",
      "  0.10674696 -0.06891205 -0.06062096  0.11052288  0.14362948  0.0857729\n",
      "  0.01070962  0.0248302  -0.1237393   0.13204102  0.11962886  0.04467159\n",
      " -0.0430735  -0.0429141   0.23554362 -0.10593596  0.07088543 -0.13784868\n",
      "  0.15116697  0.01935715  0.08146426  0.04097033 -0.11098419 -0.19828754\n",
      "  0.06200305 -0.00240388  0.16031731  0.04099959  0.06841919  0.0823194\n",
      "  0.11792375  0.06481652 -0.15295315 -0.04423331  0.08835546  0.0934799\n",
      "  0.0483524   0.14140351 -0.06231729 -0.08393225  0.1358851   0.14945971\n",
      " -0.16566419 -0.09635871 -0.0093478   0.01823048  0.01721431  0.13024955\n",
      "  0.04721132 -0.07086156 -0.05038579  0.11076471  0.02895755  0.00327753\n",
      " -0.0094008  -0.09008162  0.04428898 -0.06646877  0.00534594  0.00125231\n",
      " -0.10605436  0.02673586  0.02514545  0.02588294  0.0630544  -0.14346031\n",
      " -0.17376679  0.01936755  0.01842193 -0.01180871  0.05309728  0.03983064\n",
      "  0.01559004 -0.06770808 -0.08639897  0.05068708 -0.05684959 -0.00954419\n",
      " -0.08457247 -0.19247496  0.0202416  -0.06823403  0.04532805  0.0895455\n",
      " -0.17403725 -0.06368146 -0.14410895 -0.08812646  0.01533125 -0.01213158\n",
      "  0.02877334 -0.07360614  0.0807165   0.06156753  0.13637874  0.14725546\n",
      "  0.03561003  0.07029487  0.18781979 -0.01670261 -0.01873303 -0.11390784\n",
      "  0.10439752  0.03935457  0.00061507  0.1253367   0.03950603 -0.04007487\n",
      " -0.11085464  0.12814685 -0.23501924 -0.12885799 -0.19308242 -0.01044753\n",
      " -0.05897453 -0.08883952 -0.00066673 -0.0912828   0.12941321 -0.04914993\n",
      "  0.08648846 -0.00898433  0.12826629  0.03389407  0.10802659 -0.07472907\n",
      " -0.21530011 -0.06309648  0.10502759 -0.09781169  0.10563515 -0.19120963\n",
      " -0.07800901 -0.02500737 -0.11048144  0.01599611  0.04017786  0.09120878\n",
      "  0.01297021 -0.18807983  0.02164207  0.05406428 -0.03721869  0.2372754\n",
      " -0.09558044 -0.04087502 -0.02935192  0.13131728 -0.02724874  0.04042646\n",
      " -0.01131535 -0.10306279  0.13368844 -0.26614606 -0.02701369  0.20806848\n",
      " -0.14169827 -0.09323966 -0.00707775  0.07140813  0.07759473 -0.14258299\n",
      " -0.06299492 -0.09662231 -0.05551081  0.16370575 -0.00478992 -0.06829186\n",
      "  0.02821595 -0.00796996  0.07867488  0.07013537  0.0561003   0.17910763\n",
      "  0.18455377 -0.05488899 -0.00196916  0.1953511   0.10064245 -0.02678458\n",
      "  0.03430246  0.18162015  0.10848312  0.0492719   0.19969791 -0.02210305\n",
      " -0.09852302  0.11234385  0.09442031  0.10099872 -0.24996923 -0.05751716\n",
      " -0.04721931 -0.06163532 -0.08370249  0.08481599 -0.01217244 -0.07301396\n",
      "  0.07820991  0.01592258 -0.05032387 -0.15818835 -0.1473361   0.01182137\n",
      " -0.08165991  0.11824177 -0.04168817 -0.02622115 -0.09889034 -0.06657376\n",
      " -0.02089218  0.00633744  0.11047781  0.08214328  0.0441801   0.04596903\n",
      "  0.0026768   0.0957355   0.24629165  0.0236526  -0.02677386 -0.05793297\n",
      " -0.17110734 -0.02629992  0.00103039  0.01751681 -0.08008424  0.06803042\n",
      "  0.06964071 -0.03089114  0.04025693  0.0674948  -0.03597929  0.01305538\n",
      " -0.09651958  0.18676823 -0.01477561 -0.04748152 -0.08070709  0.04908769\n",
      " -0.05143384 -0.00567091  0.2010206   0.03048085  0.01578676  0.01996158\n",
      "  0.13695157 -0.1194458   0.07929962 -0.09463159 -0.06603256  0.00058683\n",
      "  0.07443495  0.02172907 -0.01925055 -0.04458372 -0.09383123  0.02605493\n",
      " -0.10251707  0.01801684 -0.15091078  0.0498849  -0.06564559  0.13444966\n",
      "  0.07106094 -0.1845899   0.07871479  0.10056118  0.07119704 -0.10858849\n",
      " -0.08490324  0.32769504 -0.05233943 -0.03966182 -0.19998339 -0.12262077\n",
      " -0.07530275 -0.1085506  -0.09783051 -0.17038531  0.18794315  0.09622674\n",
      " -0.0699313  -0.17495542 -0.05800924 -0.06010962  0.04281236 -0.14273993\n",
      " -0.05500288 -0.17895835  0.00469675 -0.04069585  0.04948065  0.06022238\n",
      " -0.04701063  0.01358688 -0.03091771  0.10014465 -0.07601201 -0.07220322\n",
      "  0.086701   -0.02155433 -0.13007041  0.21772197  0.01808558  0.01151789\n",
      " -0.07081119 -0.03032685  0.1738873  -0.12607658  0.13509189 -0.00973352\n",
      "  0.09488299  0.07190692  0.05607361  0.13031542  0.05641788  0.07020765\n",
      " -0.05281398  0.06829493 -0.16558423 -0.12136021 -0.18381449 -0.11961105\n",
      "  0.17621709 -0.05986116  0.06204533  0.1357451  -0.08357553  0.00916182\n",
      "  0.03803704 -0.14751971 -0.08913335 -0.15297027 -0.24293569 -0.039209\n",
      " -0.07454676 -0.13462482  0.08984481  0.02558258 -0.00326392  0.03477343\n",
      " -0.06820471 -0.09290907  0.12126639  0.19923824 -0.08225417 -0.16413592\n",
      "  0.16427845  0.11464935 -0.06021061  0.13544172  0.0164862  -0.18693283\n",
      "  0.0244702   0.10085155  0.04370075 -0.11162436  0.08669385  0.00757991\n",
      " -0.12417454  0.14266055 -0.11259497  0.1263512  -0.04270729  0.08902514\n",
      " -0.06371125 -0.08361862  0.0129147  -0.11940032  0.1330023  -0.06575573\n",
      " -0.10812061 -0.10773777 -0.05230835 -0.1575459   0.05759453  0.14931254\n",
      " -0.00998331  0.14020892 -0.0171548   0.06571413  0.12531273  0.02024589\n",
      "  0.00171286 -0.05255678  0.04732119 -0.02958829 -0.03881534 -0.18911631\n",
      "  0.10815205  0.15682219  0.1155054   0.13607825  0.04505195  0.10703143\n",
      " -0.01490795  0.13735605  0.09744103  0.10782482  0.03827975 -0.0401357\n",
      " -0.16049871 -0.03764794  0.07962145  0.09547989  0.0134926   0.07316602\n",
      " -0.04260749 -0.17875913 -0.00328412  0.11747453  0.02323077 -0.04746134\n",
      " -0.03924016 -0.01419287 -0.10431773 -0.03183231  0.05649876  0.04170775\n",
      "  0.07595728 -0.02544857  0.06874794 -0.0776316  -0.05690342 -0.04060056\n",
      "  0.06720693  0.35877854  0.01714452  0.01208226 -0.00926012  0.10937615\n",
      " -0.17626477  0.10831161 -0.09439241  0.08720475 -0.02476794 -0.19722393\n",
      "  0.02192015  0.10243332  0.30967304  0.02802478  0.04663149 -0.19260464\n",
      "  0.03933564 -0.21272512 -0.10860749  0.01348335 -0.01320253  0.09418365\n",
      " -0.02348018 -0.00092655  0.04767351  0.00936267 -0.08301841 -0.1150731\n",
      "  0.0519397  -0.10133757 -0.12714225  0.28616902 -0.05877535 -0.01112466\n",
      " -0.20782642  0.1490012  -0.04396564  0.03761073  0.14549583 -0.02462617\n",
      " -0.11911488  0.05441492  0.05148812  0.20351182  0.28902268 -0.03507068\n",
      "  0.0092499   0.21166184  0.04448358 -0.05675468  0.08520409  0.04498874\n",
      "  0.04429341 -0.07170876 -0.12353282 -0.04702737  0.20911031 -0.01797104\n",
      " -0.19511755 -0.03857302 -0.03775184 -0.05592526 -0.00804055  0.06008232\n",
      " -0.07948281 -0.14817491  0.03668871  0.00322599 -0.25301031  0.06065705\n",
      " -0.00283484  0.10134215  0.00142662 -0.00104415  0.1455819  -0.04821274\n",
      " -0.02278644 -0.13445282  0.06000736  0.02922775  0.12246717  0.09925367\n",
      "  0.01155606  0.19275312 -0.03904222  0.15589153  0.05871488  0.01209453\n",
      " -0.19632422  0.0447279   0.08585105  0.05498763 -0.03643157  0.11313635\n",
      "  0.02428522 -0.16437286 -0.04924106  0.16603213 -0.04506517 -0.1129137\n",
      " -0.00977545  0.01699375 -0.01801543 -0.06767682  0.21989229  0.1215944\n",
      " -0.06552327 -0.08400429 -0.08610224  0.15873926  0.06571863  0.08416556\n",
      "  0.06296697  0.0182353   0.13561418 -0.03373984  0.07439391 -0.08053993\n",
      " -0.03459686  0.04849139 -0.1118372   0.16501931 -0.31233061 -0.02166909\n",
      " -0.10329954  0.0339878   0.12046732  0.02039477  0.13844681 -0.01192193\n",
      "  0.0519438   0.08878003 -0.02882836  0.02283274 -0.15176223  0.09723938\n",
      "  0.04817284 -0.0928343  -0.26905563  0.00634564  0.11200972 -0.08143563\n",
      " -0.18132564  0.12984797 -0.06829391 -0.00710354  0.05986079 -0.04802205\n",
      " -0.02339707  0.0137267  -0.01351188 -0.01927263 -0.11765731 -0.07668062\n",
      "  0.08382843 -0.26800527 -0.0462552   0.15519653  0.03043759 -0.02147898\n",
      " -0.17119298 -0.00585636  0.10951995 -0.10170324  0.05321945 -0.16411775\n",
      "  0.10921666  0.04082204  0.02635069 -0.14268952 -0.11117645 -0.24816803\n",
      "  0.20411671 -0.03022508 -0.00208417  0.0315087  -0.03918816 -0.02690354\n",
      " -0.0870247   0.15621915 -0.00140552 -0.06364344  0.07046432  0.22846148\n",
      "  0.25132925 -0.01131686 -0.02508738 -0.05267115  0.00808341  0.02779765\n",
      " -0.03926943  0.02272221 -0.01190706  0.17992747 -0.17566522  0.0651148\n",
      " -0.13053576 -0.03202985  0.03079888  0.23751273 -0.03675327 -0.06424985\n",
      "  0.07188253  0.1162912   0.12495522  0.02545792 -0.08135256  0.21781516\n",
      " -0.04040497  0.11811179  0.04167263 -0.0765977  -0.00689669  0.06081491\n",
      " -0.13518969  0.04805279  0.03925424  0.10868002  0.0313705   0.16984073\n",
      "  0.14500389  0.07039521  0.01818806  0.0671415   0.08115156  0.10326897\n",
      " -0.09389487 -0.00945702  0.08179173  0.09098021 -0.03931444 -0.05533849\n",
      " -0.16378469 -0.0340103   0.15948735  0.05198218  0.00187371 -0.01970887\n",
      "  0.02488121 -0.01102032  0.01719158  0.09968876  0.01910888  0.09598967\n",
      " -0.02847665  0.06857627 -0.15196502 -0.13277441 -0.00463486 -0.2230152\n",
      "  0.04917673  0.17436769  0.05834696  0.13694797  0.02148696  0.12433877\n",
      "  0.18702611  0.06548351 -0.02983953 -0.05011581  0.03892294 -0.02503345\n",
      "  0.01400764  0.03745108  0.15772455 -0.08599395 -0.22284177  0.02578624\n",
      " -0.12500654 -0.05193812  0.06242993  0.11730494 -0.07523739  0.07255689\n",
      " -0.08787899  0.03512439  0.03246176 -0.1087784  -0.05429875 -0.05231391\n",
      "  0.09457784  0.01420901 -0.16040738  0.02426664  0.01548651 -0.07648883\n",
      " -0.09652878 -0.08798586 -0.00788669 -0.10796578 -0.04782819 -0.0163658\n",
      "  0.07392207 -0.12660869  0.07263541 -0.04761396  0.07186646  0.01653226\n",
      "  0.1796804   0.07363977 -0.01797293 -0.07456703]\n"
     ]
    }
   ],
   "source": [
    "#from docs.scipy.org/doc/numpy/reference/generated/numpy.random.normal.html\n",
    "mu, sigma = 0, 0.1 #mean and std\n",
    "llama_sample = np.random.normal(mu, sigma, 1000)\n",
    "print(llama_sample)"
   ]
  },
  {
   "cell_type": "code",
   "execution_count": 196,
   "metadata": {},
   "outputs": [
    {
     "data": {
      "text/plain": [
       "True"
      ]
     },
     "execution_count": 196,
     "metadata": {},
     "output_type": "execute_result"
    }
   ],
   "source": [
    "abs(mu - np.mean(llama_sample)) < 0.01"
   ]
  },
  {
   "cell_type": "code",
   "execution_count": 198,
   "metadata": {},
   "outputs": [
    {
     "data": {
      "text/plain": [
       "True"
      ]
     },
     "execution_count": 198,
     "metadata": {},
     "output_type": "execute_result"
    }
   ],
   "source": [
    "abs(sigma - np.std(llama_sample, ddof=1)) < 0.01"
   ]
  },
  {
   "cell_type": "code",
   "execution_count": 241,
   "metadata": {},
   "outputs": [
    {
     "data": {
      "image/png": "[encoded data removed]",
      "text/plain": [
       "<Figure size 432x288 with 1 Axes>"
      ]
     },
     "metadata": {},
     "output_type": "display_data"
    }
   ],
   "source": [
    "import matplotlib.pyplot as plt\n",
    "count, bins, ignored = plt.hist(llama_sample, 30, density=True)\n",
    "plt.plot(bins, 1/(sigma * np.sqrt(2 * np.pi)) *\n",
    "               np.exp( - (bins - mu)**2 / (2 * sigma**2) ),\n",
    "         linewidth=2, color='r')\n",
    "plt.title(\"Llamas prefer high altitudes and Bolivia\")\n",
    "plt.show()"
   ]
  },
  {
   "cell_type": "code",
   "execution_count": 246,
   "metadata": {},
   "outputs": [
    {
     "data": {
      "text/plain": [
       "array([], shape=(0, 111), dtype=float64)"
      ]
     },
     "execution_count": 246,
     "metadata": {},
     "output_type": "execute_result"
    }
   ],
   "source": [
    "#return random floats in the half-open interval\n",
    "Earl_J_Llama = np.random.random_sample([0, 111])\n",
    "Earl_J_Llama"
   ]
  },
  {
   "cell_type": "markdown",
   "metadata": {},
   "source": [
    "## Random Silly Walks Simlations\n",
    "source_walks = 'https://en.wikipedia.org/wiki/Random_walk'\n",
    "e.g. start at 0 with steps 1 and -1 occuring with equal probability"
   ]
  },
  {
   "cell_type": "code",
   "execution_count": 267,
   "metadata": {},
   "outputs": [],
   "source": [
    "import random\n",
    "position = 0\n",
    "walk = [position]\n",
    "steps = 6000   #number of coin flips\n",
    "for i in range(steps):\n",
    "    step = 1 if random.randint(0, 1) else -1  #set flips to either -1 or 1\n",
    "    position += step\n",
    "    walk.append(position)"
   ]
  },
  {
   "cell_type": "code",
   "execution_count": null,
   "metadata": {
    "scrolled": true
   },
   "outputs": [],
   "source": [
    "plt.figure()"
   ]
  },
  {
   "cell_type": "code",
   "execution_count": 268,
   "metadata": {},
   "outputs": [
    {
     "data": {
      "text/plain": [
       "Text(0.5,1,'Silly Walk Adherents in Isle of Wight')"
      ]
     },
     "execution_count": 268,
     "metadata": {},
     "output_type": "execute_result"
    },
    {
     "data": {
      "image/png": "[encoded data removed]",
      "text/plain": [
       "<Figure size 432x288 with 1 Axes>"
      ]
     },
     "metadata": {},
     "output_type": "display_data"
    }
   ],
   "source": [
    "plt.plot(walk[:5100])\n",
    "plt.title(\"Silly Walk Adherents in Isle of Wight\")"
   ]
  },
  {
   "cell_type": "code",
   "execution_count": null,
   "metadata": {},
   "outputs": [],
   "source": [
    "np.random.seed(12345)"
   ]
  },
  {
   "cell_type": "code",
   "execution_count": 264,
   "metadata": {},
   "outputs": [],
   "source": [
    "nsteps = 1000\n",
    "draws = np.random.randint(0, 2, size=nsteps)\n",
    "steps = np.where(draws > 0, 1, -1)\n",
    "walk2 = steps.cumsum()"
   ]
  },
  {
   "cell_type": "code",
   "execution_count": 266,
   "metadata": {},
   "outputs": [
    {
     "data": {
      "text/plain": [
       "Text(0.5,1,'Number of Penguins on Television Sets in Sherriffmuir')"
      ]
     },
     "execution_count": 266,
     "metadata": {},
     "output_type": "execute_result"
    },
    {
     "data": {
      "image/png": "[encoded data removed]",
      "text/plain": [
       "<Figure size 432x288 with 1 Axes>"
      ]
     },
     "metadata": {},
     "output_type": "display_data"
    }
   ],
   "source": [
    "plt.plot(walk2[:988])\n",
    "plt.title(\"Number of Penguins on Television Sets in Sherriffmuir\")\n"
   ]
  },
  {
   "cell_type": "code",
   "execution_count": null,
   "metadata": {},
   "outputs": [],
   "source": [
    "#basic stats\n",
    "print(walk.min())\n",
    "print(walk.max())"
   ]
  },
  {
   "cell_type": "code",
   "execution_count": 251,
   "metadata": {},
   "outputs": [
    {
     "data": {
      "text/plain": [
       "155"
      ]
     },
     "execution_count": 251,
     "metadata": {},
     "output_type": "execute_result"
    }
   ],
   "source": [
    "#first crossing time, the step where the random walk reaches a \n",
    "#particular value. how many steps from 0 either +/-\n",
    "#want the index of the FIRST +/-10\n",
    "#use argmax to return first index of the maximun value in the \n",
    "#boolean array (True = max value)\n",
    "(np.abs(walk) >= 10).argmax()"
   ]
  },
  {
   "cell_type": "markdown",
   "metadata": {},
   "source": [
    "### Simulating Many Random Silly Walks at Once\n",
    "pass a 2-tuple to numpy.random to generate a 2D arry of draws\n",
    "compute cumsum across rows to compute all walks at once"
   ]
  },
  {
   "cell_type": "code",
   "execution_count": 252,
   "metadata": {},
   "outputs": [
    {
     "data": {
      "text/plain": [
       "array([[ 1.22683061e-01,  7.86216097e-02,  4.24074480e-02, ...,\n",
       "        -4.57849364e+00, -4.34752165e+00, -4.24422256e+00],\n",
       "       [ 1.79489912e-01,  1.49165853e-01,  3.55394042e-01, ...,\n",
       "         7.13351943e+00,  7.14861786e+00,  7.34147751e+00],\n",
       "       [ 3.70450335e-01,  7.79661965e-01,  8.11004324e-01, ...,\n",
       "        -4.15533083e+00, -4.24467840e+00, -4.45524930e+00],\n",
       "       ...,\n",
       "       [ 1.30879550e-04,  3.06936790e-01,  5.10220607e-01, ...,\n",
       "         2.82425312e+00,  2.56016778e+00,  2.66197422e+00],\n",
       "       [-4.14822209e-02, -2.38990134e-01, -4.71941139e-01, ...,\n",
       "         5.61558318e+00,  5.70753240e+00,  5.51986743e+00],\n",
       "       [-3.86226477e-01, -1.48154488e-01, -1.16499030e-01, ...,\n",
       "        -1.06199311e+01, -1.07304987e+01, -1.06457937e+01]])"
      ]
     },
     "execution_count": 252,
     "metadata": {},
     "output_type": "execute_result"
    }
   ],
   "source": [
    "nwalks = 6666\n",
    "nsteps = 1111\n",
    "draws = np.random.randint(0, 2, size=(nwalks, nsteps)) # 0 or 1\n",
    "#steps = np.where(draws > 0, 1, -1)\n",
    "steps = np.random.normal(loc=0, scale=0.26, size=(nwalks, nsteps))\n",
    "walks = steps.cumsum(1)\n",
    "walks"
   ]
  },
  {
   "cell_type": "code",
   "execution_count": 253,
   "metadata": {},
   "outputs": [
    {
     "name": "stdout",
     "output_type": "stream",
     "text": [
      "33.520529868504134\n",
      "-33.45689639553509\n"
     ]
    }
   ],
   "source": [
    "print(walks.max())\n",
    "print(walks.min())"
   ]
  },
  {
   "cell_type": "code",
   "execution_count": 254,
   "metadata": {},
   "outputs": [
    {
     "name": "stdout",
     "output_type": "stream",
     "text": [
      "[False False False ... False False False]\n",
      "9\n"
     ]
    }
   ],
   "source": [
    "#calculate the min crossing time to +/-30\n",
    "hits30 = (np.abs(walks) >= 30).any(1)\n",
    "print(hits30)\n",
    "print(hits30.sum()) # Number that hit 30 or -30"
   ]
  },
  {
   "cell_type": "code",
   "execution_count": 269,
   "metadata": {},
   "outputs": [
    {
     "data": {
      "text/plain": [
       "985.2222222222222"
      ]
     },
     "execution_count": 269,
     "metadata": {},
     "output_type": "execute_result"
    }
   ],
   "source": [
    "#use hits30 boolean array to grab rows of walks that cross absolue value 30\n",
    "#call argmax (across axis 1) to get the times\n",
    "crossing_times = (np.abs(walks[hits30]) >= 30).argmax(1)\n",
    "crossing_times.mean()"
   ]
  },
  {
   "cell_type": "code",
   "execution_count": 256,
   "metadata": {},
   "outputs": [],
   "source": [
    "steps = np.random.normal(loc=0, scale=0.25,\n",
    "                         size=(nwalks, nsteps))"
   ]
  },
  {
   "cell_type": "code",
   "execution_count": null,
   "metadata": {},
   "outputs": [],
   "source": [
    "sources =  [{'author' : 'Wes McKinney', 'title' : 'Python for Data Analysis', 'ISBN' : 'Ch03'},\n",
    "           {'author' : 'Mark Lutz',    'title' : 'Python Pocket Reference', 'ISBN' :  'm'},\n",
    "           {'author' : 'Mark Lutz', 'title' : 'Learning Python 5th Edition', 'ISBN' : 'l'},\n",
    "           {'author' : 'Simon Monk', 'title' : 'Programming the Raspberry Pi', 'ISBN' : '978-0-07-180783-8'},\n",
    "           {'author' : 'Janani Ravi', 'title' : 'Working with Multidimenstional Data Using Numpy', 'site' : 'pluralsight.com'},\n",
    "\t\t   {'author' : 'Janani Ravi', 'title' : 'Visualizing Statistical Data Using Seaborn', 'site' : 'pluralsight.com'},\n",
    "\t\t   {'author' : 'Janani Ravi', 'title' : 'Building Machine Learning Models in Python with scikit-learn', 'site' : 'pluralsight.com'},\n",
    "           {'author' : 'Abhishek Kumar', 'title' : 'Doing Data Science with Python', 'site' : 'pluralsight.com'}]\n",
    "\n",
    "            \n",
    "           "
   ]
  }
 ],
 "metadata": {
  "kernelspec": {
   "display_name": "Python 3",
   "language": "python",
   "name": "python3"
  },
  "language_info": {
   "codemirror_mode": {
    "name": "ipython",
    "version": 3
   },
   "file_extension": ".py",
   "mimetype": "text/x-python",
   "name": "python",
   "nbconvert_exporter": "python",
   "pygments_lexer": "ipython3",
   "version": "3.6.5"
  }
 },
 "nbformat": 4,
 "nbformat_minor": 1
}
